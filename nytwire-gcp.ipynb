{
 "cells": [
  {
   "cell_type": "markdown",
   "metadata": {},
   "source": [
    "## Get API Key by creating The NewYork Times Developer account\n",
    "https://developer.nytimes.com/accounts/createhttps://developer.nytimes.com/accounts/create"
   ]
  },
  {
   "cell_type": "markdown",
   "metadata": {},
   "source": [
    "## Get Google Cloud Credentials - assuming you have Google cloud access\n",
    "\n",
    "https://cloud.google.com/docs/authentication/getting-started"
   ]
  },
  {
   "cell_type": "code",
   "execution_count": 108,
   "metadata": {},
   "outputs": [],
   "source": [
    "#!pip3 install webdrivermanager\n",
    "#!webdrivermanager firefox chrome --linkpath /usr/local/bin"
   ]
  },
  {
   "cell_type": "code",
   "execution_count": 109,
   "metadata": {},
   "outputs": [
    {
     "output_type": "display_data",
     "data": {
      "text/html": "\n    <div class=\"bk-root\">\n        <a href=\"https://bokeh.org\" target=\"_blank\" class=\"bk-logo bk-logo-small bk-logo-notebook\"></a>\n        <span id=\"13360\">Loading BokehJS ...</span>\n    </div>"
     },
     "metadata": {}
    },
    {
     "output_type": "display_data",
     "data": {
      "application/javascript": "\n(function(root) {\n  function now() {\n    return new Date();\n  }\n\n  var force = true;\n\n  if (typeof root._bokeh_onload_callbacks === \"undefined\" || force === true) {\n    root._bokeh_onload_callbacks = [];\n    root._bokeh_is_loading = undefined;\n  }\n\n  var JS_MIME_TYPE = 'application/javascript';\n  var HTML_MIME_TYPE = 'text/html';\n  var EXEC_MIME_TYPE = 'application/vnd.bokehjs_exec.v0+json';\n  var CLASS_NAME = 'output_bokeh rendered_html';\n\n  /**\n   * Render data to the DOM node\n   */\n  function render(props, node) {\n    var script = document.createElement(\"script\");\n    node.appendChild(script);\n  }\n\n  /**\n   * Handle when an output is cleared or removed\n   */\n  function handleClearOutput(event, handle) {\n    var cell = handle.cell;\n\n    var id = cell.output_area._bokeh_element_id;\n    var server_id = cell.output_area._bokeh_server_id;\n    // Clean up Bokeh references\n    if (id != null && id in Bokeh.index) {\n      Bokeh.index[id].model.document.clear();\n      delete Bokeh.index[id];\n    }\n\n    if (server_id !== undefined) {\n      // Clean up Bokeh references\n      var cmd = \"from bokeh.io.state import curstate; print(curstate().uuid_to_server['\" + server_id + \"'].get_sessions()[0].document.roots[0]._id)\";\n      cell.notebook.kernel.execute(cmd, {\n        iopub: {\n          output: function(msg) {\n            var id = msg.content.text.trim();\n            if (id in Bokeh.index) {\n              Bokeh.index[id].model.document.clear();\n              delete Bokeh.index[id];\n            }\n          }\n        }\n      });\n      // Destroy server and session\n      var cmd = \"import bokeh.io.notebook as ion; ion.destroy_server('\" + server_id + \"')\";\n      cell.notebook.kernel.execute(cmd);\n    }\n  }\n\n  /**\n   * Handle when a new output is added\n   */\n  function handleAddOutput(event, handle) {\n    var output_area = handle.output_area;\n    var output = handle.output;\n\n    // limit handleAddOutput to display_data with EXEC_MIME_TYPE content only\n    if ((output.output_type != \"display_data\") || (!output.data.hasOwnProperty(EXEC_MIME_TYPE))) {\n      return\n    }\n\n    var toinsert = output_area.element.find(\".\" + CLASS_NAME.split(' ')[0]);\n\n    if (output.metadata[EXEC_MIME_TYPE][\"id\"] !== undefined) {\n      toinsert[toinsert.length - 1].firstChild.textContent = output.data[JS_MIME_TYPE];\n      // store reference to embed id on output_area\n      output_area._bokeh_element_id = output.metadata[EXEC_MIME_TYPE][\"id\"];\n    }\n    if (output.metadata[EXEC_MIME_TYPE][\"server_id\"] !== undefined) {\n      var bk_div = document.createElement(\"div\");\n      bk_div.innerHTML = output.data[HTML_MIME_TYPE];\n      var script_attrs = bk_div.children[0].attributes;\n      for (var i = 0; i < script_attrs.length; i++) {\n        toinsert[toinsert.length - 1].firstChild.setAttribute(script_attrs[i].name, script_attrs[i].value);\n        toinsert[toinsert.length - 1].firstChild.textContent = bk_div.children[0].textContent\n      }\n      // store reference to server id on output_area\n      output_area._bokeh_server_id = output.metadata[EXEC_MIME_TYPE][\"server_id\"];\n    }\n  }\n\n  function register_renderer(events, OutputArea) {\n\n    function append_mime(data, metadata, element) {\n      // create a DOM node to render to\n      var toinsert = this.create_output_subarea(\n        metadata,\n        CLASS_NAME,\n        EXEC_MIME_TYPE\n      );\n      this.keyboard_manager.register_events(toinsert);\n      // Render to node\n      var props = {data: data, metadata: metadata[EXEC_MIME_TYPE]};\n      render(props, toinsert[toinsert.length - 1]);\n      element.append(toinsert);\n      return toinsert\n    }\n\n    /* Handle when an output is cleared or removed */\n    events.on('clear_output.CodeCell', handleClearOutput);\n    events.on('delete.Cell', handleClearOutput);\n\n    /* Handle when a new output is added */\n    events.on('output_added.OutputArea', handleAddOutput);\n\n    /**\n     * Register the mime type and append_mime function with output_area\n     */\n    OutputArea.prototype.register_mime_type(EXEC_MIME_TYPE, append_mime, {\n      /* Is output safe? */\n      safe: true,\n      /* Index of renderer in `output_area.display_order` */\n      index: 0\n    });\n  }\n\n  // register the mime type if in Jupyter Notebook environment and previously unregistered\n  if (root.Jupyter !== undefined) {\n    var events = require('base/js/events');\n    var OutputArea = require('notebook/js/outputarea').OutputArea;\n\n    if (OutputArea.prototype.mime_types().indexOf(EXEC_MIME_TYPE) == -1) {\n      register_renderer(events, OutputArea);\n    }\n  }\n\n  \n  if (typeof (root._bokeh_timeout) === \"undefined\" || force === true) {\n    root._bokeh_timeout = Date.now() + 5000;\n    root._bokeh_failed_load = false;\n  }\n\n  var NB_LOAD_WARNING = {'data': {'text/html':\n     \"<div style='background-color: #fdd'>\\n\"+\n     \"<p>\\n\"+\n     \"BokehJS does not appear to have successfully loaded. If loading BokehJS from CDN, this \\n\"+\n     \"may be due to a slow or bad network connection. Possible fixes:\\n\"+\n     \"</p>\\n\"+\n     \"<ul>\\n\"+\n     \"<li>re-rerun `output_notebook()` to attempt to load from CDN again, or</li>\\n\"+\n     \"<li>use INLINE resources instead, as so:</li>\\n\"+\n     \"</ul>\\n\"+\n     \"<code>\\n\"+\n     \"from bokeh.resources import INLINE\\n\"+\n     \"output_notebook(resources=INLINE)\\n\"+\n     \"</code>\\n\"+\n     \"</div>\"}};\n\n  function display_loaded() {\n    var el = document.getElementById(\"13360\");\n    if (el != null) {\n      el.textContent = \"BokehJS is loading...\";\n    }\n    if (root.Bokeh !== undefined) {\n      if (el != null) {\n        el.textContent = \"BokehJS \" + root.Bokeh.version + \" successfully loaded.\";\n      }\n    } else if (Date.now() < root._bokeh_timeout) {\n      setTimeout(display_loaded, 100)\n    }\n  }\n\n\n  function run_callbacks() {\n    try {\n      root._bokeh_onload_callbacks.forEach(function(callback) {\n        if (callback != null)\n          callback();\n      });\n    } finally {\n      delete root._bokeh_onload_callbacks\n    }\n    console.debug(\"Bokeh: all callbacks have finished\");\n  }\n\n  function load_libs(css_urls, js_urls, callback) {\n    if (css_urls == null) css_urls = [];\n    if (js_urls == null) js_urls = [];\n\n    root._bokeh_onload_callbacks.push(callback);\n    if (root._bokeh_is_loading > 0) {\n      console.debug(\"Bokeh: BokehJS is being loaded, scheduling callback at\", now());\n      return null;\n    }\n    if (js_urls == null || js_urls.length === 0) {\n      run_callbacks();\n      return null;\n    }\n    console.debug(\"Bokeh: BokehJS not loaded, scheduling load and callback at\", now());\n    root._bokeh_is_loading = css_urls.length + js_urls.length;\n\n    function on_load() {\n      root._bokeh_is_loading--;\n      if (root._bokeh_is_loading === 0) {\n        console.debug(\"Bokeh: all BokehJS libraries/stylesheets loaded\");\n        run_callbacks()\n      }\n    }\n\n    function on_error() {\n      console.error(\"failed to load \" + url);\n    }\n\n    for (var i = 0; i < css_urls.length; i++) {\n      var url = css_urls[i];\n      const element = document.createElement(\"link\");\n      element.onload = on_load;\n      element.onerror = on_error;\n      element.rel = \"stylesheet\";\n      element.type = \"text/css\";\n      element.href = url;\n      console.debug(\"Bokeh: injecting link tag for BokehJS stylesheet: \", url);\n      document.body.appendChild(element);\n    }\n\n    const hashes = {\"https://cdn.bokeh.org/bokeh/release/bokeh-2.0.2.min.js\": \"ufR9RFnRs6lniiaFvtJziE0YeidtAgBRH6ux2oUItHw5WTvE1zuk9uzhUU/FJXDp\", \"https://cdn.bokeh.org/bokeh/release/bokeh-widgets-2.0.2.min.js\": \"8QM/PGWBT+IssZuRcDcjzwIh1mkOmJSoNMmyYDZbCfXJg3Ap1lEvdVgFuSAwhb/J\", \"https://cdn.bokeh.org/bokeh/release/bokeh-tables-2.0.2.min.js\": \"Jm8cH3Rg0P6UeZhVY5cLy1WzKajUT9KImCY+76hEqrcJt59/d8GPvFHjCkYgnSIn\", \"https://cdn.bokeh.org/bokeh/release/bokeh-gl-2.0.2.min.js\": \"Ozhzj+SI7ywm74aOI/UajcWz+C0NjsPunEVyVIrxzYkB+jA+2tUw8x5xJCbVtK5I\"};\n\n    for (var i = 0; i < js_urls.length; i++) {\n      var url = js_urls[i];\n      var element = document.createElement('script');\n      element.onload = on_load;\n      element.onerror = on_error;\n      element.async = false;\n      element.src = url;\n      if (url in hashes) {\n        element.crossOrigin = \"anonymous\";\n        element.integrity = \"sha384-\" + hashes[url];\n      }\n      console.debug(\"Bokeh: injecting script tag for BokehJS library: \", url);\n      document.head.appendChild(element);\n    }\n  };\n\n  function inject_raw_css(css) {\n    const element = document.createElement(\"style\");\n    element.appendChild(document.createTextNode(css));\n    document.body.appendChild(element);\n  }\n\n  \n  var js_urls = [\"https://cdn.bokeh.org/bokeh/release/bokeh-2.0.2.min.js\", \"https://cdn.bokeh.org/bokeh/release/bokeh-widgets-2.0.2.min.js\", \"https://cdn.bokeh.org/bokeh/release/bokeh-tables-2.0.2.min.js\", \"https://cdn.bokeh.org/bokeh/release/bokeh-gl-2.0.2.min.js\"];\n  var css_urls = [];\n  \n\n  var inline_js = [\n    function(Bokeh) {\n      Bokeh.set_log_level(\"info\");\n    },\n    function(Bokeh) {\n    \n    \n    }\n  ];\n\n  function run_inline_js() {\n    \n    if (root.Bokeh !== undefined || force === true) {\n      \n    for (var i = 0; i < inline_js.length; i++) {\n      inline_js[i].call(root, root.Bokeh);\n    }\n    if (force === true) {\n        display_loaded();\n      }} else if (Date.now() < root._bokeh_timeout) {\n      setTimeout(run_inline_js, 100);\n    } else if (!root._bokeh_failed_load) {\n      console.log(\"Bokeh: BokehJS failed to load within specified timeout.\");\n      root._bokeh_failed_load = true;\n    } else if (force !== true) {\n      var cell = $(document.getElementById(\"13360\")).parents('.cell').data().cell;\n      cell.output_area.append_execute_result(NB_LOAD_WARNING)\n    }\n\n  }\n\n  if (root._bokeh_is_loading === 0) {\n    console.debug(\"Bokeh: BokehJS loaded, going straight to plotting\");\n    run_inline_js();\n  } else {\n    load_libs(css_urls, js_urls, function() {\n      console.debug(\"Bokeh: BokehJS plotting callback run at\", now());\n      run_inline_js();\n    });\n  }\n}(window));",
      "application/vnd.bokehjs_load.v0+json": "\n(function(root) {\n  function now() {\n    return new Date();\n  }\n\n  var force = true;\n\n  if (typeof root._bokeh_onload_callbacks === \"undefined\" || force === true) {\n    root._bokeh_onload_callbacks = [];\n    root._bokeh_is_loading = undefined;\n  }\n\n  \n\n  \n  if (typeof (root._bokeh_timeout) === \"undefined\" || force === true) {\n    root._bokeh_timeout = Date.now() + 5000;\n    root._bokeh_failed_load = false;\n  }\n\n  var NB_LOAD_WARNING = {'data': {'text/html':\n     \"<div style='background-color: #fdd'>\\n\"+\n     \"<p>\\n\"+\n     \"BokehJS does not appear to have successfully loaded. If loading BokehJS from CDN, this \\n\"+\n     \"may be due to a slow or bad network connection. Possible fixes:\\n\"+\n     \"</p>\\n\"+\n     \"<ul>\\n\"+\n     \"<li>re-rerun `output_notebook()` to attempt to load from CDN again, or</li>\\n\"+\n     \"<li>use INLINE resources instead, as so:</li>\\n\"+\n     \"</ul>\\n\"+\n     \"<code>\\n\"+\n     \"from bokeh.resources import INLINE\\n\"+\n     \"output_notebook(resources=INLINE)\\n\"+\n     \"</code>\\n\"+\n     \"</div>\"}};\n\n  function display_loaded() {\n    var el = document.getElementById(\"13360\");\n    if (el != null) {\n      el.textContent = \"BokehJS is loading...\";\n    }\n    if (root.Bokeh !== undefined) {\n      if (el != null) {\n        el.textContent = \"BokehJS \" + root.Bokeh.version + \" successfully loaded.\";\n      }\n    } else if (Date.now() < root._bokeh_timeout) {\n      setTimeout(display_loaded, 100)\n    }\n  }\n\n\n  function run_callbacks() {\n    try {\n      root._bokeh_onload_callbacks.forEach(function(callback) {\n        if (callback != null)\n          callback();\n      });\n    } finally {\n      delete root._bokeh_onload_callbacks\n    }\n    console.debug(\"Bokeh: all callbacks have finished\");\n  }\n\n  function load_libs(css_urls, js_urls, callback) {\n    if (css_urls == null) css_urls = [];\n    if (js_urls == null) js_urls = [];\n\n    root._bokeh_onload_callbacks.push(callback);\n    if (root._bokeh_is_loading > 0) {\n      console.debug(\"Bokeh: BokehJS is being loaded, scheduling callback at\", now());\n      return null;\n    }\n    if (js_urls == null || js_urls.length === 0) {\n      run_callbacks();\n      return null;\n    }\n    console.debug(\"Bokeh: BokehJS not loaded, scheduling load and callback at\", now());\n    root._bokeh_is_loading = css_urls.length + js_urls.length;\n\n    function on_load() {\n      root._bokeh_is_loading--;\n      if (root._bokeh_is_loading === 0) {\n        console.debug(\"Bokeh: all BokehJS libraries/stylesheets loaded\");\n        run_callbacks()\n      }\n    }\n\n    function on_error() {\n      console.error(\"failed to load \" + url);\n    }\n\n    for (var i = 0; i < css_urls.length; i++) {\n      var url = css_urls[i];\n      const element = document.createElement(\"link\");\n      element.onload = on_load;\n      element.onerror = on_error;\n      element.rel = \"stylesheet\";\n      element.type = \"text/css\";\n      element.href = url;\n      console.debug(\"Bokeh: injecting link tag for BokehJS stylesheet: \", url);\n      document.body.appendChild(element);\n    }\n\n    const hashes = {\"https://cdn.bokeh.org/bokeh/release/bokeh-2.0.2.min.js\": \"ufR9RFnRs6lniiaFvtJziE0YeidtAgBRH6ux2oUItHw5WTvE1zuk9uzhUU/FJXDp\", \"https://cdn.bokeh.org/bokeh/release/bokeh-widgets-2.0.2.min.js\": \"8QM/PGWBT+IssZuRcDcjzwIh1mkOmJSoNMmyYDZbCfXJg3Ap1lEvdVgFuSAwhb/J\", \"https://cdn.bokeh.org/bokeh/release/bokeh-tables-2.0.2.min.js\": \"Jm8cH3Rg0P6UeZhVY5cLy1WzKajUT9KImCY+76hEqrcJt59/d8GPvFHjCkYgnSIn\", \"https://cdn.bokeh.org/bokeh/release/bokeh-gl-2.0.2.min.js\": \"Ozhzj+SI7ywm74aOI/UajcWz+C0NjsPunEVyVIrxzYkB+jA+2tUw8x5xJCbVtK5I\"};\n\n    for (var i = 0; i < js_urls.length; i++) {\n      var url = js_urls[i];\n      var element = document.createElement('script');\n      element.onload = on_load;\n      element.onerror = on_error;\n      element.async = false;\n      element.src = url;\n      if (url in hashes) {\n        element.crossOrigin = \"anonymous\";\n        element.integrity = \"sha384-\" + hashes[url];\n      }\n      console.debug(\"Bokeh: injecting script tag for BokehJS library: \", url);\n      document.head.appendChild(element);\n    }\n  };\n\n  function inject_raw_css(css) {\n    const element = document.createElement(\"style\");\n    element.appendChild(document.createTextNode(css));\n    document.body.appendChild(element);\n  }\n\n  \n  var js_urls = [\"https://cdn.bokeh.org/bokeh/release/bokeh-2.0.2.min.js\", \"https://cdn.bokeh.org/bokeh/release/bokeh-widgets-2.0.2.min.js\", \"https://cdn.bokeh.org/bokeh/release/bokeh-tables-2.0.2.min.js\", \"https://cdn.bokeh.org/bokeh/release/bokeh-gl-2.0.2.min.js\"];\n  var css_urls = [];\n  \n\n  var inline_js = [\n    function(Bokeh) {\n      Bokeh.set_log_level(\"info\");\n    },\n    function(Bokeh) {\n    \n    \n    }\n  ];\n\n  function run_inline_js() {\n    \n    if (root.Bokeh !== undefined || force === true) {\n      \n    for (var i = 0; i < inline_js.length; i++) {\n      inline_js[i].call(root, root.Bokeh);\n    }\n    if (force === true) {\n        display_loaded();\n      }} else if (Date.now() < root._bokeh_timeout) {\n      setTimeout(run_inline_js, 100);\n    } else if (!root._bokeh_failed_load) {\n      console.log(\"Bokeh: BokehJS failed to load within specified timeout.\");\n      root._bokeh_failed_load = true;\n    } else if (force !== true) {\n      var cell = $(document.getElementById(\"13360\")).parents('.cell').data().cell;\n      cell.output_area.append_execute_result(NB_LOAD_WARNING)\n    }\n\n  }\n\n  if (root._bokeh_is_loading === 0) {\n    console.debug(\"Bokeh: BokehJS loaded, going straight to plotting\");\n    run_inline_js();\n  } else {\n    load_libs(css_urls, js_urls, function() {\n      console.debug(\"Bokeh: BokehJS plotting callback run at\", now());\n      run_inline_js();\n    });\n  }\n}(window));"
     },
     "metadata": {}
    }
   ],
   "source": [
    "# Library imports and config\n",
    "import os\n",
    "import pandas as pd\n",
    "import urllib3, requests\n",
    "from google.cloud import language_v1\n",
    "from google.cloud.language_v1 import enums\n",
    "from tqdm import tqdm\n",
    "from bokeh.io import output_notebook, show\n",
    "\n",
    "from bokeh.models import (ColumnDataSource, HoverTool, LabelSet)\n",
    "from bokeh.plotting import figure, output_file\n",
    "from bokeh.palettes import Set3\n",
    "#from bokeh.io import export_png\n",
    "\n",
    "output_notebook()\n",
    "\n",
    "pd.set_option('display.max_rows', 500)\n",
    "pd.set_option('display.max_columns', 500)\n",
    "pd.set_option('display.max_colwidth', 0)\n",
    "urllib3.disable_warnings(urllib3.exceptions.InsecureRequestWarning)"
   ]
  },
  {
   "cell_type": "code",
   "execution_count": 110,
   "metadata": {},
   "outputs": [],
   "source": [
    "# Google cloud credentials goes here if you don't already have declared\n",
    "os.environ['GOOGLE_APPLICATION_CREDENTIALS']='gcp-creds.json'\n",
    "\n",
    "# The New York Times API Key goes here\n",
    "API_KEY=\"GenerateOneFrom-NYT\""
   ]
  },
  {
   "cell_type": "code",
   "execution_count": 111,
   "metadata": {},
   "outputs": [],
   "source": [
    "# Function to get latest articles from NewYork Times Wire API and store it as Data Frame\n",
    "def get_nyt_articles(API_KEY,limit=500):\n",
    "    url = \"https://api.nytimes.com/svc/news/v3/content/all/all.json?api-key=\"+API_KEY+\"&limit=\"+str(limit)\n",
    "    try:\n",
    "        page = requests.get(url, verify=False)\n",
    "        df_page=pd.json_normalize(page.json()['results'])[['slug_name','byline','section','item_type','material_type_facet','des_facet','org_facet','per_facet','geo_facet','title','abstract','first_published_date']]\n",
    "        df_page['first_published_date_parsed']=pd.to_datetime(df_page['first_published_date'],format='%Y-%m-%d %H:%M:%S').dt.tz_convert('Europe/London')\n",
    "    except:\n",
    "        print(\"Error generating articles from The New York Times\")\n",
    "        return\n",
    "    return df_page"
   ]
  },
  {
   "cell_type": "code",
   "execution_count": 112,
   "metadata": {},
   "outputs": [],
   "source": [
    "# Function to initialize GCP Natural Langugage Service client\n",
    "def get_client(text_content):\n",
    "    client = language_v1.LanguageServiceClient()\n",
    "    type_ = enums.Document.Type.PLAIN_TEXT\n",
    "    language = \"en\"\n",
    "    document = {\"content\": text_content, \"type\": type_, \"language\": language}\n",
    "    encoding_type = enums.EncodingType.UTF8\n",
    "    return client, document, encoding_type"
   ]
  },
  {
   "cell_type": "code",
   "execution_count": 113,
   "metadata": {},
   "outputs": [],
   "source": [
    "# Function to invoke google cloud analyze sentiment API\n",
    "def analyze_sentiment(text_content,articleid):\n",
    "    try:\n",
    "        client, document, encoding_type = get_client(text_content)\n",
    "        response = client.analyze_sentiment(document, encoding_type=encoding_type)\n",
    "        results=[]\n",
    "        document={}\n",
    "        document['articleid']=articleid\n",
    "        document['level']='document'\n",
    "        document['sentiment_score']=float(response.document_sentiment.score)\n",
    "        document['sentiment_magnitude']=float(response.document_sentiment.magnitude)\n",
    "        document['language']=str(response.language)\n",
    "        results.append(document)\n",
    "        for sentence in response.sentences:\n",
    "            allsen={}\n",
    "            allsen['articleid']=articleid\n",
    "            allsen['level']='sentence'\n",
    "            allsen['sentence_text']=str(sentence.text.content)\n",
    "            allsen['sentiment_magnitude']=float(sentence.sentiment.magnitude)\n",
    "            allsen['sentiment_score']=float(sentence.sentiment.score)\n",
    "            results.append(allsen)\n",
    "    except:\n",
    "        print(\"Error generating sentiment analysis using Google cloud\")\n",
    "    return results"
   ]
  },
  {
   "cell_type": "code",
   "execution_count": 114,
   "metadata": {},
   "outputs": [],
   "source": [
    "# Function to iterate through New York times articles and call API and append results to a dataframe\n",
    "def gcp_analyze_sentiment(df):\n",
    "    dfBase=pd.json_normalize(analyze_sentiment('Test','Doc1'))\n",
    "    for index,row in tqdm(df.iterrows()):\n",
    "        try:\n",
    "            results1=analyze_sentiment(str(row['title'])+\". \"+str(row['abstract']),row['slug_name'])\n",
    "            df1=pd.json_normalize(results1)\n",
    "            dfBase=pd.concat([dfBase,df1])\n",
    "        except:\n",
    "            print(\"Error analysing: {}\".format(row['slug_name']))\n",
    "    return dfBase"
   ]
  },
  {
   "cell_type": "code",
   "execution_count": 115,
   "metadata": {},
   "outputs": [],
   "source": [
    "def get_top10(dfOut,colname,ascending=False):\n",
    "    if not ascending:\n",
    "        # Prepare chart data - top 10 highest ranking sentiment score by individual setnences against articleid\n",
    "        dfX1=dfOut[dfOut.sentence_text.isnull()].groupby([colname]).mean().nlargest(10,'sentiment_score')[['sentiment_score']].index.str[:40].tolist()\n",
    "        dfY1=dfOut[dfOut.sentence_text.isnull()].groupby([colname]).mean().nlargest(10,'sentiment_score')[['sentiment_score']].values.round(2).tolist()\n",
    "    elif ascending:\n",
    "        # Prepare chart data - top 10 highest ranking sentiment score by individual setnences against articleid\n",
    "        dfX1=dfOut[dfOut.sentence_text.isnull()].groupby([colname]).mean().nsmallest(10,'sentiment_score')[['sentiment_score']].index.str[:40].tolist()\n",
    "        dfY1=dfOut[dfOut.sentence_text.isnull()].groupby([colname]).mean().nsmallest(10,'sentiment_score')[['sentiment_score']].values.round(2).tolist()\n",
    "\n",
    "    dfY1=[y[0] for y in dfY1]\n",
    "    return dfX1,dfY1"
   ]
  },
  {
   "cell_type": "code",
   "execution_count": 116,
   "metadata": {},
   "outputs": [],
   "source": [
    "def generate_vis(dfX1,dfY1,xaxislabel):\n",
    "    # Visualize\n",
    "\n",
    "    sorted_score = sorted(dfX1, key=lambda x: dfY1[dfX1.index(x)])\n",
    "\n",
    "    source = ColumnDataSource(data=dict(sentences=dfX1, sentiment_score=dfY1, color=Set3[10]))\n",
    "\n",
    "    from math import pi\n",
    "\n",
    "    p = figure(x_range=sorted_score, y_range=(-1,1),height=800, width=1000, title=\"The New York Times Wire - Sentiment Analysis\", toolbar_location=None)\n",
    "    p.vbar(x='sentences', top='sentiment_score', color='color', width=0.5,  source=source)\n",
    "\n",
    "    hover_tool = HoverTool(tooltips=[(\"sentiment_score\", \"@sentiment_score\")])\n",
    "\n",
    "    labels = LabelSet(x='sentences', y='sentiment_score', text='sentiment_score',  source=source, render_mode='canvas')\n",
    "\n",
    "    p.add_tools(hover_tool)\n",
    "\n",
    "    p.xaxis.axis_label=xaxislabel\n",
    "    p.yaxis.axis_label=\"Sentiment Score\"\n",
    "    p.xaxis.axis_label_text_font_size = \"13pt\"\n",
    "    p.yaxis.axis_label_text_font_size = \"13pt\"\n",
    "    p.xaxis.major_label_orientation = pi/3\n",
    "    p.xaxis.major_label_text_font_size = \"13pt\"\n",
    "\n",
    "    p.y_range.start = -1\n",
    "\n",
    "    p.add_layout(labels)\n",
    "    \n",
    "    #export_png(p, filename=str(xaxislabel.strip())+\".png\")\n",
    "    show(p)\n",
    "    "
   ]
  },
  {
   "cell_type": "code",
   "execution_count": 117,
   "metadata": {},
   "outputs": [
    {
     "output_type": "stream",
     "name": "stdout",
     "text": "Error generating articles from The New York Times\n"
    }
   ],
   "source": [
    "# Execute article extraction from NYT\n",
    "df_page=get_nyt_articles(API_KEY)\n",
    "\n",
    "if df_page:\n",
    "    # Execute the sentiment analysis across google cloud platform - sample 100\n",
    "    dfBase0=gcp_analyze_sentiment(df_page.sample(10))\n",
    "\n",
    "    # Join the score with original article extract\n",
    "    dfOut=dfBase0.join(df_page.set_index('slug_name'), on='articleid')\n",
    "else:\n",
    "    # Read sample static file\n",
    "    dfOut = pd.read_csv('dfOut.csv')"
   ]
  },
  {
   "cell_type": "code",
   "execution_count": 118,
   "metadata": {},
   "outputs": [
    {
     "output_type": "display_data",
     "data": {
      "text/html": "\n\n\n\n\n\n  <div class=\"bk-root\" id=\"04d06cc6-bcec-455f-8716-3c35bcbfac4e\" data-root-id=\"13362\"></div>\n"
     },
     "metadata": {}
    },
    {
     "output_type": "display_data",
     "data": {
      "application/javascript": "(function(root) {\n  function embed_document(root) {\n    \n  var docs_json = {\"2df6bed5-04ef-434e-877c-c25918b8b123\":{\"roots\":{\"references\":[{\"attributes\":{\"below\":[{\"id\":\"13373\"}],\"center\":[{\"id\":\"13375\"},{\"id\":\"13379\"},{\"id\":\"13400\"}],\"left\":[{\"id\":\"13376\"}],\"plot_height\":800,\"plot_width\":1000,\"renderers\":[{\"id\":\"13397\"}],\"title\":{\"id\":\"13363\"},\"toolbar\":{\"id\":\"13387\"},\"toolbar_location\":null,\"x_range\":{\"id\":\"13365\"},\"x_scale\":{\"id\":\"13369\"},\"y_range\":{\"id\":\"13367\"},\"y_scale\":{\"id\":\"13371\"}},\"id\":\"13362\",\"subtype\":\"Figure\",\"type\":\"Plot\"},{\"attributes\":{\"fill_alpha\":{\"value\":0.1},\"fill_color\":{\"field\":\"color\"},\"line_alpha\":{\"value\":0.1},\"line_color\":{\"field\":\"color\"},\"top\":{\"field\":\"sentiment_score\"},\"width\":{\"value\":0.5},\"x\":{\"field\":\"sentences\"}},\"id\":\"13396\",\"type\":\"VBar\"},{\"attributes\":{},\"id\":\"13381\",\"type\":\"WheelZoomTool\"},{\"attributes\":{\"start\":-1},\"id\":\"13367\",\"type\":\"Range1d\"},{\"attributes\":{},\"id\":\"13374\",\"type\":\"CategoricalTicker\"},{\"attributes\":{},\"id\":\"13383\",\"type\":\"SaveTool\"},{\"attributes\":{\"overlay\":{\"id\":\"13386\"}},\"id\":\"13382\",\"type\":\"BoxZoomTool\"},{\"attributes\":{\"source\":{\"id\":\"13361\"}},\"id\":\"13398\",\"type\":\"CDSView\"},{\"attributes\":{},\"id\":\"13371\",\"type\":\"LinearScale\"},{\"attributes\":{\"data_source\":{\"id\":\"13361\"},\"glyph\":{\"id\":\"13395\"},\"hover_glyph\":null,\"muted_glyph\":null,\"nonselection_glyph\":{\"id\":\"13396\"},\"selection_glyph\":null,\"view\":{\"id\":\"13398\"}},\"id\":\"13397\",\"type\":\"GlyphRenderer\"},{\"attributes\":{},\"id\":\"13377\",\"type\":\"BasicTicker\"},{\"attributes\":{},\"id\":\"13380\",\"type\":\"PanTool\"},{\"attributes\":{\"callback\":null,\"tooltips\":[[\"sentiment_score\",\"@sentiment_score\"]]},\"id\":\"13399\",\"type\":\"HoverTool\"},{\"attributes\":{},\"id\":\"13384\",\"type\":\"ResetTool\"},{\"attributes\":{},\"id\":\"13369\",\"type\":\"CategoricalScale\"},{\"attributes\":{\"fill_color\":{\"field\":\"color\"},\"line_color\":{\"field\":\"color\"},\"top\":{\"field\":\"sentiment_score\"},\"width\":{\"value\":0.5},\"x\":{\"field\":\"sentences\"}},\"id\":\"13395\",\"type\":\"VBar\"},{\"attributes\":{\"active_drag\":\"auto\",\"active_inspect\":\"auto\",\"active_multi\":null,\"active_scroll\":\"auto\",\"active_tap\":\"auto\",\"tools\":[{\"id\":\"13380\"},{\"id\":\"13381\"},{\"id\":\"13382\"},{\"id\":\"13383\"},{\"id\":\"13384\"},{\"id\":\"13385\"},{\"id\":\"13399\"}]},\"id\":\"13387\",\"type\":\"Toolbar\"},{\"attributes\":{\"factors\":[\"['Amarachi (Brooklyn, NY, Restaurant)', \",\"['American Museum of Natural History', '\",\"['Centers for Disease Control and Preven\",\"['Chanel SA', 'Christian Dior SA', 'Kosa\",\"['Consumer Financial Protection Bureau',\",\"['NAZ Elite']\",\"['ABC Inc', 'Disney Plus', 'Home Box Off\",\"['Goodman Theater', 'Public Theater', 'D\",\"['Theatre du Soleil']\",\"['Gagosian Gallery', 'Hauser & Wirth', '\"]},\"id\":\"13365\",\"type\":\"FactorRange\"},{\"attributes\":{},\"id\":\"13385\",\"type\":\"HelpTool\"},{\"attributes\":{},\"id\":\"13711\",\"type\":\"CategoricalTickFormatter\"},{\"attributes\":{\"axis_label\":\"Ranked Positive by Organisation\",\"axis_label_text_font_size\":\"13pt\",\"formatter\":{\"id\":\"13711\"},\"major_label_orientation\":1.0471975511965976,\"major_label_text_font_size\":\"13pt\",\"ticker\":{\"id\":\"13374\"}},\"id\":\"13373\",\"type\":\"CategoricalAxis\"},{\"attributes\":{\"source\":{\"id\":\"13361\"},\"text\":{\"field\":\"sentiment_score\"},\"x\":{\"field\":\"sentences\"},\"y\":{\"field\":\"sentiment_score\"}},\"id\":\"13400\",\"type\":\"LabelSet\"},{\"attributes\":{},\"id\":\"13709\",\"type\":\"BasicTickFormatter\"},{\"attributes\":{\"bottom_units\":\"screen\",\"fill_alpha\":0.5,\"fill_color\":\"lightgrey\",\"left_units\":\"screen\",\"level\":\"overlay\",\"line_alpha\":1.0,\"line_color\":\"black\",\"line_dash\":[4,4],\"line_width\":2,\"render_mode\":\"css\",\"right_units\":\"screen\",\"top_units\":\"screen\"},\"id\":\"13386\",\"type\":\"BoxAnnotation\"},{\"attributes\":{\"data\":{\"color\":[\"#8dd3c7\",\"#ffffb3\",\"#bebada\",\"#fb8072\",\"#80b1d3\",\"#fdb462\",\"#b3de69\",\"#fccde5\",\"#d9d9d9\",\"#bc80bd\"],\"sentences\":[\"['Gagosian Gallery', 'Hauser & Wirth', '\",\"['ABC Inc', 'Disney Plus', 'Home Box Off\",\"['Goodman Theater', 'Public Theater', 'D\",\"['Theatre du Soleil']\",\"['NAZ Elite']\",\"['Amarachi (Brooklyn, NY, Restaurant)', \",\"['American Museum of Natural History', '\",\"['Centers for Disease Control and Preven\",\"['Chanel SA', 'Christian Dior SA', 'Kosa\",\"['Consumer Financial Protection Bureau',\"],\"sentiment_score\":[0.8,0.5,0.5,0.5,0.4,0.3,0.3,0.3,0.3,0.3]},\"selected\":{\"id\":\"13713\"},\"selection_policy\":{\"id\":\"13714\"}},\"id\":\"13361\",\"type\":\"ColumnDataSource\"},{\"attributes\":{\"axis_label\":\"Sentiment Score\",\"axis_label_text_font_size\":\"13pt\",\"formatter\":{\"id\":\"13709\"},\"ticker\":{\"id\":\"13377\"}},\"id\":\"13376\",\"type\":\"LinearAxis\"},{\"attributes\":{},\"id\":\"13713\",\"type\":\"Selection\"},{\"attributes\":{\"axis\":{\"id\":\"13376\"},\"dimension\":1,\"ticker\":null},\"id\":\"13379\",\"type\":\"Grid\"},{\"attributes\":{\"text\":\"The New York Times Wire - Sentiment Analysis\"},\"id\":\"13363\",\"type\":\"Title\"},{\"attributes\":{\"axis\":{\"id\":\"13373\"},\"ticker\":null},\"id\":\"13375\",\"type\":\"Grid\"},{\"attributes\":{},\"id\":\"13714\",\"type\":\"UnionRenderers\"}],\"root_ids\":[\"13362\"]},\"title\":\"Bokeh Application\",\"version\":\"2.0.2\"}};\n  var render_items = [{\"docid\":\"2df6bed5-04ef-434e-877c-c25918b8b123\",\"root_ids\":[\"13362\"],\"roots\":{\"13362\":\"04d06cc6-bcec-455f-8716-3c35bcbfac4e\"}}];\n  root.Bokeh.embed.embed_items_notebook(docs_json, render_items);\n\n  }\n  if (root.Bokeh !== undefined) {\n    embed_document(root);\n  } else {\n    var attempts = 0;\n    var timer = setInterval(function(root) {\n      if (root.Bokeh !== undefined) {\n        clearInterval(timer);\n        embed_document(root);\n      } else {\n        attempts++;\n        if (attempts > 100) {\n          clearInterval(timer);\n          console.log(\"Bokeh: ERROR: Unable to run BokehJS code because BokehJS library is missing\");\n        }\n      }\n    }, 10, root)\n  }\n})(window);",
      "application/vnd.bokehjs_exec.v0+json": ""
     },
     "metadata": {
      "application/vnd.bokehjs_exec.v0+json": {
       "id": "13362"
      }
     }
    }
   ],
   "source": [
    "# Get highest positive ranking Organisation\n",
    "(dfX1,dfY1) = get_top10(dfOut,'org_facet',False)\n",
    "generate_vis(dfX1,dfY1,\"Ranked Positive by Organisation\")"
   ]
  },
  {
   "cell_type": "code",
   "execution_count": 119,
   "metadata": {},
   "outputs": [
    {
     "output_type": "display_data",
     "data": {
      "text/html": "\n\n\n\n\n\n  <div class=\"bk-root\" id=\"a8429fc4-2328-4b2a-9b51-d81588bd4fd2\" data-root-id=\"13764\"></div>\n"
     },
     "metadata": {}
    },
    {
     "output_type": "display_data",
     "data": {
      "application/javascript": "(function(root) {\n  function embed_document(root) {\n    \n  var docs_json = {\"e9ec6818-7811-4ec3-a53a-4f8a863e3b6d\":{\"roots\":{\"references\":[{\"attributes\":{\"below\":[{\"id\":\"13775\"}],\"center\":[{\"id\":\"13777\"},{\"id\":\"13781\"},{\"id\":\"13802\"}],\"left\":[{\"id\":\"13778\"}],\"plot_height\":800,\"plot_width\":1000,\"renderers\":[{\"id\":\"13799\"}],\"title\":{\"id\":\"13765\"},\"toolbar\":{\"id\":\"13789\"},\"toolbar_location\":null,\"x_range\":{\"id\":\"13767\"},\"x_scale\":{\"id\":\"13771\"},\"y_range\":{\"id\":\"13769\"},\"y_scale\":{\"id\":\"13773\"}},\"id\":\"13764\",\"subtype\":\"Figure\",\"type\":\"Plot\"},{\"attributes\":{\"callback\":null,\"tooltips\":[[\"sentiment_score\",\"@sentiment_score\"]]},\"id\":\"13801\",\"type\":\"HoverTool\"},{\"attributes\":{\"overlay\":{\"id\":\"13788\"}},\"id\":\"13784\",\"type\":\"BoxZoomTool\"},{\"attributes\":{},\"id\":\"14124\",\"type\":\"UnionRenderers\"},{\"attributes\":{},\"id\":\"14119\",\"type\":\"BasicTickFormatter\"},{\"attributes\":{},\"id\":\"13771\",\"type\":\"CategoricalScale\"},{\"attributes\":{},\"id\":\"13776\",\"type\":\"CategoricalTicker\"},{\"attributes\":{},\"id\":\"13786\",\"type\":\"ResetTool\"},{\"attributes\":{},\"id\":\"13787\",\"type\":\"HelpTool\"},{\"attributes\":{},\"id\":\"13779\",\"type\":\"BasicTicker\"},{\"attributes\":{\"data\":{\"color\":[\"#8dd3c7\",\"#ffffb3\",\"#bebada\",\"#fb8072\",\"#80b1d3\",\"#fdb462\",\"#b3de69\",\"#fccde5\",\"#d9d9d9\",\"#bc80bd\"],\"sentences\":[\"['BlackRock Inc', 'J Crew Group']\",\"['Michigan State University']\",\"['ChristianaCare']\",\"['American Civil Liberties Union', 'Berg\",\"['Harvard University']\",\"['Musical.ly Inc', 'TikTok (ByteDance)',\",\"['Quartz (Atlantic Media Co)', 'Uzabase \",\"['Tall Pines Distillery']\",\"['ABS-CBN Corp', 'Committee to Protect J\",\"['Amtrak']\"],\"sentiment_score\":[-0.7,-0.7,-0.6,-0.5,-0.5,-0.5,-0.5,-0.5,-0.4,-0.4]},\"selected\":{\"id\":\"14123\"},\"selection_policy\":{\"id\":\"14124\"}},\"id\":\"13763\",\"type\":\"ColumnDataSource\"},{\"attributes\":{\"fill_color\":{\"field\":\"color\"},\"line_color\":{\"field\":\"color\"},\"top\":{\"field\":\"sentiment_score\"},\"width\":{\"value\":0.5},\"x\":{\"field\":\"sentences\"}},\"id\":\"13797\",\"type\":\"VBar\"},{\"attributes\":{\"bottom_units\":\"screen\",\"fill_alpha\":0.5,\"fill_color\":\"lightgrey\",\"left_units\":\"screen\",\"level\":\"overlay\",\"line_alpha\":1.0,\"line_color\":\"black\",\"line_dash\":[4,4],\"line_width\":2,\"render_mode\":\"css\",\"right_units\":\"screen\",\"top_units\":\"screen\"},\"id\":\"13788\",\"type\":\"BoxAnnotation\"},{\"attributes\":{},\"id\":\"14123\",\"type\":\"Selection\"},{\"attributes\":{\"axis_label\":\"Sentiment Score\",\"axis_label_text_font_size\":\"13pt\",\"formatter\":{\"id\":\"14119\"},\"ticker\":{\"id\":\"13779\"}},\"id\":\"13778\",\"type\":\"LinearAxis\"},{\"attributes\":{},\"id\":\"13782\",\"type\":\"PanTool\"},{\"attributes\":{\"source\":{\"id\":\"13763\"},\"text\":{\"field\":\"sentiment_score\"},\"x\":{\"field\":\"sentences\"},\"y\":{\"field\":\"sentiment_score\"}},\"id\":\"13802\",\"type\":\"LabelSet\"},{\"attributes\":{\"text\":\"The New York Times Wire - Sentiment Analysis\"},\"id\":\"13765\",\"type\":\"Title\"},{\"attributes\":{},\"id\":\"14121\",\"type\":\"CategoricalTickFormatter\"},{\"attributes\":{},\"id\":\"13783\",\"type\":\"WheelZoomTool\"},{\"attributes\":{\"axis\":{\"id\":\"13778\"},\"dimension\":1,\"ticker\":null},\"id\":\"13781\",\"type\":\"Grid\"},{\"attributes\":{\"active_drag\":\"auto\",\"active_inspect\":\"auto\",\"active_multi\":null,\"active_scroll\":\"auto\",\"active_tap\":\"auto\",\"tools\":[{\"id\":\"13782\"},{\"id\":\"13783\"},{\"id\":\"13784\"},{\"id\":\"13785\"},{\"id\":\"13786\"},{\"id\":\"13787\"},{\"id\":\"13801\"}]},\"id\":\"13789\",\"type\":\"Toolbar\"},{\"attributes\":{\"source\":{\"id\":\"13763\"}},\"id\":\"13800\",\"type\":\"CDSView\"},{\"attributes\":{\"start\":-1},\"id\":\"13769\",\"type\":\"Range1d\"},{\"attributes\":{\"data_source\":{\"id\":\"13763\"},\"glyph\":{\"id\":\"13797\"},\"hover_glyph\":null,\"muted_glyph\":null,\"nonselection_glyph\":{\"id\":\"13798\"},\"selection_glyph\":null,\"view\":{\"id\":\"13800\"}},\"id\":\"13799\",\"type\":\"GlyphRenderer\"},{\"attributes\":{},\"id\":\"13773\",\"type\":\"LinearScale\"},{\"attributes\":{\"factors\":[\"['BlackRock Inc', 'J Crew Group']\",\"['Michigan State University']\",\"['ChristianaCare']\",\"['American Civil Liberties Union', 'Berg\",\"['Harvard University']\",\"['Musical.ly Inc', 'TikTok (ByteDance)',\",\"['Quartz (Atlantic Media Co)', 'Uzabase \",\"['Tall Pines Distillery']\",\"['ABS-CBN Corp', 'Committee to Protect J\",\"['Amtrak']\"]},\"id\":\"13767\",\"type\":\"FactorRange\"},{\"attributes\":{\"axis_label\":\"Ranked Negative by Organisation\",\"axis_label_text_font_size\":\"13pt\",\"formatter\":{\"id\":\"14121\"},\"major_label_orientation\":1.0471975511965976,\"major_label_text_font_size\":\"13pt\",\"ticker\":{\"id\":\"13776\"}},\"id\":\"13775\",\"type\":\"CategoricalAxis\"},{\"attributes\":{},\"id\":\"13785\",\"type\":\"SaveTool\"},{\"attributes\":{\"fill_alpha\":{\"value\":0.1},\"fill_color\":{\"field\":\"color\"},\"line_alpha\":{\"value\":0.1},\"line_color\":{\"field\":\"color\"},\"top\":{\"field\":\"sentiment_score\"},\"width\":{\"value\":0.5},\"x\":{\"field\":\"sentences\"}},\"id\":\"13798\",\"type\":\"VBar\"},{\"attributes\":{\"axis\":{\"id\":\"13775\"},\"ticker\":null},\"id\":\"13777\",\"type\":\"Grid\"}],\"root_ids\":[\"13764\"]},\"title\":\"Bokeh Application\",\"version\":\"2.0.2\"}};\n  var render_items = [{\"docid\":\"e9ec6818-7811-4ec3-a53a-4f8a863e3b6d\",\"root_ids\":[\"13764\"],\"roots\":{\"13764\":\"a8429fc4-2328-4b2a-9b51-d81588bd4fd2\"}}];\n  root.Bokeh.embed.embed_items_notebook(docs_json, render_items);\n\n  }\n  if (root.Bokeh !== undefined) {\n    embed_document(root);\n  } else {\n    var attempts = 0;\n    var timer = setInterval(function(root) {\n      if (root.Bokeh !== undefined) {\n        clearInterval(timer);\n        embed_document(root);\n      } else {\n        attempts++;\n        if (attempts > 100) {\n          clearInterval(timer);\n          console.log(\"Bokeh: ERROR: Unable to run BokehJS code because BokehJS library is missing\");\n        }\n      }\n    }, 10, root)\n  }\n})(window);",
      "application/vnd.bokehjs_exec.v0+json": ""
     },
     "metadata": {
      "application/vnd.bokehjs_exec.v0+json": {
       "id": "13764"
      }
     }
    }
   ],
   "source": [
    "# Get highest negative ranking Organisation\n",
    "(dfX1,dfY1) = get_top10(dfOut,'org_facet',True)\n",
    "generate_vis(dfX1,dfY1,\"Ranked Negative by Organisation\")"
   ]
  },
  {
   "cell_type": "code",
   "execution_count": 120,
   "metadata": {},
   "outputs": [
    {
     "output_type": "display_data",
     "data": {
      "text/html": "\n\n\n\n\n\n  <div class=\"bk-root\" id=\"0b4675ce-8f88-41d7-a193-c6d50d048b22\" data-root-id=\"14174\"></div>\n"
     },
     "metadata": {}
    },
    {
     "output_type": "display_data",
     "data": {
      "application/javascript": "(function(root) {\n  function embed_document(root) {\n    \n  var docs_json = {\"94dbcc92-30bf-4250-ba09-b0c30689edbd\":{\"roots\":{\"references\":[{\"attributes\":{\"below\":[{\"id\":\"14185\"}],\"center\":[{\"id\":\"14187\"},{\"id\":\"14191\"},{\"id\":\"14212\"}],\"left\":[{\"id\":\"14188\"}],\"plot_height\":800,\"plot_width\":1000,\"renderers\":[{\"id\":\"14209\"}],\"title\":{\"id\":\"14175\"},\"toolbar\":{\"id\":\"14199\"},\"toolbar_location\":null,\"x_range\":{\"id\":\"14177\"},\"x_scale\":{\"id\":\"14181\"},\"y_range\":{\"id\":\"14179\"},\"y_scale\":{\"id\":\"14183\"}},\"id\":\"14174\",\"subtype\":\"Figure\",\"type\":\"Plot\"},{\"attributes\":{},\"id\":\"14537\",\"type\":\"BasicTickFormatter\"},{\"attributes\":{},\"id\":\"14186\",\"type\":\"CategoricalTicker\"},{\"attributes\":{\"data_source\":{\"id\":\"14173\"},\"glyph\":{\"id\":\"14207\"},\"hover_glyph\":null,\"muted_glyph\":null,\"nonselection_glyph\":{\"id\":\"14208\"},\"selection_glyph\":null,\"view\":{\"id\":\"14210\"}},\"id\":\"14209\",\"type\":\"GlyphRenderer\"},{\"attributes\":{\"source\":{\"id\":\"14173\"}},\"id\":\"14210\",\"type\":\"CDSView\"},{\"attributes\":{},\"id\":\"14542\",\"type\":\"UnionRenderers\"},{\"attributes\":{\"fill_alpha\":{\"value\":0.1},\"fill_color\":{\"field\":\"color\"},\"line_alpha\":{\"value\":0.1},\"line_color\":{\"field\":\"color\"},\"top\":{\"field\":\"sentiment_score\"},\"width\":{\"value\":0.5},\"x\":{\"field\":\"sentences\"}},\"id\":\"14208\",\"type\":\"VBar\"},{\"attributes\":{\"fill_color\":{\"field\":\"color\"},\"line_color\":{\"field\":\"color\"},\"top\":{\"field\":\"sentiment_score\"},\"width\":{\"value\":0.5},\"x\":{\"field\":\"sentences\"}},\"id\":\"14207\",\"type\":\"VBar\"},{\"attributes\":{\"axis\":{\"id\":\"14188\"},\"dimension\":1,\"ticker\":null},\"id\":\"14191\",\"type\":\"Grid\"},{\"attributes\":{\"bottom_units\":\"screen\",\"fill_alpha\":0.5,\"fill_color\":\"lightgrey\",\"left_units\":\"screen\",\"level\":\"overlay\",\"line_alpha\":1.0,\"line_color\":\"black\",\"line_dash\":[4,4],\"line_width\":2,\"render_mode\":\"css\",\"right_units\":\"screen\",\"top_units\":\"screen\"},\"id\":\"14198\",\"type\":\"BoxAnnotation\"},{\"attributes\":{\"data\":{\"color\":[\"#8dd3c7\",\"#ffffb3\",\"#bebada\",\"#fb8072\",\"#80b1d3\",\"#fdb462\",\"#b3de69\",\"#fccde5\",\"#d9d9d9\",\"#bc80bd\"],\"sentences\":[\"['Austria']\",\"['Atlanta (Ga)', 'Harlem (Manhattan, NY)\",\"['Hamburg (Germany)', 'Berlin (Germany)'\",\"['King County (Wash)', 'Seattle (Wash)',\",\"['France']\",\"['Abruzzo (Italy)']\",\"['Attleboro (Mass)']\",\"['Bronx (NYC)', 'New Jersey', 'Texas']\",\"['California', 'Nevada']\",\"['China', 'Europe', 'Wuhan (China)']\"],\"sentiment_score\":[0.8,0.4,0.3,0.3,0.25,0.2,0.2,0.2,0.2,0.2]},\"selected\":{\"id\":\"14541\"},\"selection_policy\":{\"id\":\"14542\"}},\"id\":\"14173\",\"type\":\"ColumnDataSource\"},{\"attributes\":{},\"id\":\"14541\",\"type\":\"Selection\"},{\"attributes\":{},\"id\":\"14196\",\"type\":\"ResetTool\"},{\"attributes\":{},\"id\":\"14539\",\"type\":\"CategoricalTickFormatter\"},{\"attributes\":{},\"id\":\"14197\",\"type\":\"HelpTool\"},{\"attributes\":{\"factors\":[\"['Abruzzo (Italy)']\",\"['Attleboro (Mass)']\",\"['Bronx (NYC)', 'New Jersey', 'Texas']\",\"['California', 'Nevada']\",\"['China', 'Europe', 'Wuhan (China)']\",\"['France']\",\"['Hamburg (Germany)', 'Berlin (Germany)'\",\"['King County (Wash)', 'Seattle (Wash)',\",\"['Atlanta (Ga)', 'Harlem (Manhattan, NY)\",\"['Austria']\"]},\"id\":\"14177\",\"type\":\"FactorRange\"},{\"attributes\":{\"start\":-1},\"id\":\"14179\",\"type\":\"Range1d\"},{\"attributes\":{},\"id\":\"14189\",\"type\":\"BasicTicker\"},{\"attributes\":{\"axis\":{\"id\":\"14185\"},\"ticker\":null},\"id\":\"14187\",\"type\":\"Grid\"},{\"attributes\":{},\"id\":\"14193\",\"type\":\"WheelZoomTool\"},{\"attributes\":{\"text\":\"The New York Times Wire - Sentiment Analysis\"},\"id\":\"14175\",\"type\":\"Title\"},{\"attributes\":{\"source\":{\"id\":\"14173\"},\"text\":{\"field\":\"sentiment_score\"},\"x\":{\"field\":\"sentences\"},\"y\":{\"field\":\"sentiment_score\"}},\"id\":\"14212\",\"type\":\"LabelSet\"},{\"attributes\":{\"overlay\":{\"id\":\"14198\"}},\"id\":\"14194\",\"type\":\"BoxZoomTool\"},{\"attributes\":{},\"id\":\"14183\",\"type\":\"LinearScale\"},{\"attributes\":{\"axis_label\":\"Ranked Positive by Geo Location\",\"axis_label_text_font_size\":\"13pt\",\"formatter\":{\"id\":\"14539\"},\"major_label_orientation\":1.0471975511965976,\"major_label_text_font_size\":\"13pt\",\"ticker\":{\"id\":\"14186\"}},\"id\":\"14185\",\"type\":\"CategoricalAxis\"},{\"attributes\":{\"active_drag\":\"auto\",\"active_inspect\":\"auto\",\"active_multi\":null,\"active_scroll\":\"auto\",\"active_tap\":\"auto\",\"tools\":[{\"id\":\"14192\"},{\"id\":\"14193\"},{\"id\":\"14194\"},{\"id\":\"14195\"},{\"id\":\"14196\"},{\"id\":\"14197\"},{\"id\":\"14211\"}]},\"id\":\"14199\",\"type\":\"Toolbar\"},{\"attributes\":{},\"id\":\"14181\",\"type\":\"CategoricalScale\"},{\"attributes\":{},\"id\":\"14195\",\"type\":\"SaveTool\"},{\"attributes\":{},\"id\":\"14192\",\"type\":\"PanTool\"},{\"attributes\":{\"callback\":null,\"tooltips\":[[\"sentiment_score\",\"@sentiment_score\"]]},\"id\":\"14211\",\"type\":\"HoverTool\"},{\"attributes\":{\"axis_label\":\"Sentiment Score\",\"axis_label_text_font_size\":\"13pt\",\"formatter\":{\"id\":\"14537\"},\"ticker\":{\"id\":\"14189\"}},\"id\":\"14188\",\"type\":\"LinearAxis\"}],\"root_ids\":[\"14174\"]},\"title\":\"Bokeh Application\",\"version\":\"2.0.2\"}};\n  var render_items = [{\"docid\":\"94dbcc92-30bf-4250-ba09-b0c30689edbd\",\"root_ids\":[\"14174\"],\"roots\":{\"14174\":\"0b4675ce-8f88-41d7-a193-c6d50d048b22\"}}];\n  root.Bokeh.embed.embed_items_notebook(docs_json, render_items);\n\n  }\n  if (root.Bokeh !== undefined) {\n    embed_document(root);\n  } else {\n    var attempts = 0;\n    var timer = setInterval(function(root) {\n      if (root.Bokeh !== undefined) {\n        clearInterval(timer);\n        embed_document(root);\n      } else {\n        attempts++;\n        if (attempts > 100) {\n          clearInterval(timer);\n          console.log(\"Bokeh: ERROR: Unable to run BokehJS code because BokehJS library is missing\");\n        }\n      }\n    }, 10, root)\n  }\n})(window);",
      "application/vnd.bokehjs_exec.v0+json": ""
     },
     "metadata": {
      "application/vnd.bokehjs_exec.v0+json": {
       "id": "14174"
      }
     }
    }
   ],
   "source": [
    "# Get highest positive ranking Geo location\n",
    "(dfX1,dfY1) = get_top10(dfOut,'geo_facet',False)\n",
    "generate_vis(dfX1,dfY1,\"Ranked Positive by Geo Location\")"
   ]
  },
  {
   "cell_type": "code",
   "execution_count": 121,
   "metadata": {},
   "outputs": [
    {
     "output_type": "display_data",
     "data": {
      "text/html": "\n\n\n\n\n\n  <div class=\"bk-root\" id=\"7a88ebfc-e10b-448c-8832-73fb3475f8cc\" data-root-id=\"14592\"></div>\n"
     },
     "metadata": {}
    },
    {
     "output_type": "display_data",
     "data": {
      "application/javascript": "(function(root) {\n  function embed_document(root) {\n    \n  var docs_json = {\"2f672651-6f9e-4ab7-abb3-ac043902a75f\":{\"roots\":{\"references\":[{\"attributes\":{\"below\":[{\"id\":\"14603\"}],\"center\":[{\"id\":\"14605\"},{\"id\":\"14609\"},{\"id\":\"14630\"}],\"left\":[{\"id\":\"14606\"}],\"plot_height\":800,\"plot_width\":1000,\"renderers\":[{\"id\":\"14627\"}],\"title\":{\"id\":\"14593\"},\"toolbar\":{\"id\":\"14617\"},\"toolbar_location\":null,\"x_range\":{\"id\":\"14595\"},\"x_scale\":{\"id\":\"14599\"},\"y_range\":{\"id\":\"14597\"},\"y_scale\":{\"id\":\"14601\"}},\"id\":\"14592\",\"subtype\":\"Figure\",\"type\":\"Plot\"},{\"attributes\":{},\"id\":\"14601\",\"type\":\"LinearScale\"},{\"attributes\":{},\"id\":\"14610\",\"type\":\"PanTool\"},{\"attributes\":{\"axis_label\":\"Ranked Negative by Geo Location\",\"axis_label_text_font_size\":\"13pt\",\"formatter\":{\"id\":\"14965\"},\"major_label_orientation\":1.0471975511965976,\"major_label_text_font_size\":\"13pt\",\"ticker\":{\"id\":\"14604\"}},\"id\":\"14603\",\"type\":\"CategoricalAxis\"},{\"attributes\":{},\"id\":\"14613\",\"type\":\"SaveTool\"},{\"attributes\":{\"active_drag\":\"auto\",\"active_inspect\":\"auto\",\"active_multi\":null,\"active_scroll\":\"auto\",\"active_tap\":\"auto\",\"tools\":[{\"id\":\"14610\"},{\"id\":\"14611\"},{\"id\":\"14612\"},{\"id\":\"14613\"},{\"id\":\"14614\"},{\"id\":\"14615\"},{\"id\":\"14629\"}]},\"id\":\"14617\",\"type\":\"Toolbar\"},{\"attributes\":{\"bottom_units\":\"screen\",\"fill_alpha\":0.5,\"fill_color\":\"lightgrey\",\"left_units\":\"screen\",\"level\":\"overlay\",\"line_alpha\":1.0,\"line_color\":\"black\",\"line_dash\":[4,4],\"line_width\":2,\"render_mode\":\"css\",\"right_units\":\"screen\",\"top_units\":\"screen\"},\"id\":\"14616\",\"type\":\"BoxAnnotation\"},{\"attributes\":{},\"id\":\"14599\",\"type\":\"CategoricalScale\"},{\"attributes\":{\"text\":\"The New York Times Wire - Sentiment Analysis\"},\"id\":\"14593\",\"type\":\"Title\"},{\"attributes\":{\"fill_alpha\":{\"value\":0.1},\"fill_color\":{\"field\":\"color\"},\"line_alpha\":{\"value\":0.1},\"line_color\":{\"field\":\"color\"},\"top\":{\"field\":\"sentiment_score\"},\"width\":{\"value\":0.5},\"x\":{\"field\":\"sentences\"}},\"id\":\"14626\",\"type\":\"VBar\"},{\"attributes\":{},\"id\":\"14963\",\"type\":\"BasicTickFormatter\"},{\"attributes\":{},\"id\":\"14614\",\"type\":\"ResetTool\"},{\"attributes\":{\"factors\":[\"['Wuhan (China)']\",\"['Arkansas', 'Fort Smith (Ark)', 'Missou\",\"['Azad Jammu and Kashmir (Pakistan)', 'K\",\"['Iowa', 'Midwestern States (US)', 'Minn\",\"['Los Angeles County (Calif)']\",\"['New Jersey']\",\"['Russia', 'Moscow (Russia)', 'St Peters\",\"['Bronx (NYC)']\",\"['Colombia']\",\"['Europe']\"]},\"id\":\"14595\",\"type\":\"FactorRange\"},{\"attributes\":{\"callback\":null,\"tooltips\":[[\"sentiment_score\",\"@sentiment_score\"]]},\"id\":\"14629\",\"type\":\"HoverTool\"},{\"attributes\":{},\"id\":\"14611\",\"type\":\"WheelZoomTool\"},{\"attributes\":{\"data\":{\"color\":[\"#8dd3c7\",\"#ffffb3\",\"#bebada\",\"#fb8072\",\"#80b1d3\",\"#fdb462\",\"#b3de69\",\"#fccde5\",\"#d9d9d9\",\"#bc80bd\"],\"sentences\":[\"['Wuhan (China)']\",\"['Arkansas', 'Fort Smith (Ark)', 'Missou\",\"['Azad Jammu and Kashmir (Pakistan)', 'K\",\"['Iowa', 'Midwestern States (US)', 'Minn\",\"['Los Angeles County (Calif)']\",\"['New Jersey']\",\"['Russia', 'Moscow (Russia)', 'St Peters\",\"['Bronx (NYC)']\",\"['Colombia']\",\"['Europe']\"],\"sentiment_score\":[-0.6,-0.5,-0.5,-0.5,-0.5,-0.5,-0.5,-0.4,-0.4,-0.4]},\"selected\":{\"id\":\"14967\"},\"selection_policy\":{\"id\":\"14968\"}},\"id\":\"14591\",\"type\":\"ColumnDataSource\"},{\"attributes\":{},\"id\":\"14967\",\"type\":\"Selection\"},{\"attributes\":{},\"id\":\"14604\",\"type\":\"CategoricalTicker\"},{\"attributes\":{\"axis_label\":\"Sentiment Score\",\"axis_label_text_font_size\":\"13pt\",\"formatter\":{\"id\":\"14963\"},\"ticker\":{\"id\":\"14607\"}},\"id\":\"14606\",\"type\":\"LinearAxis\"},{\"attributes\":{},\"id\":\"14615\",\"type\":\"HelpTool\"},{\"attributes\":{\"fill_color\":{\"field\":\"color\"},\"line_color\":{\"field\":\"color\"},\"top\":{\"field\":\"sentiment_score\"},\"width\":{\"value\":0.5},\"x\":{\"field\":\"sentences\"}},\"id\":\"14625\",\"type\":\"VBar\"},{\"attributes\":{},\"id\":\"14607\",\"type\":\"BasicTicker\"},{\"attributes\":{\"overlay\":{\"id\":\"14616\"}},\"id\":\"14612\",\"type\":\"BoxZoomTool\"},{\"attributes\":{},\"id\":\"14968\",\"type\":\"UnionRenderers\"},{\"attributes\":{\"axis\":{\"id\":\"14606\"},\"dimension\":1,\"ticker\":null},\"id\":\"14609\",\"type\":\"Grid\"},{\"attributes\":{\"data_source\":{\"id\":\"14591\"},\"glyph\":{\"id\":\"14625\"},\"hover_glyph\":null,\"muted_glyph\":null,\"nonselection_glyph\":{\"id\":\"14626\"},\"selection_glyph\":null,\"view\":{\"id\":\"14628\"}},\"id\":\"14627\",\"type\":\"GlyphRenderer\"},{\"attributes\":{\"axis\":{\"id\":\"14603\"},\"ticker\":null},\"id\":\"14605\",\"type\":\"Grid\"},{\"attributes\":{\"start\":-1},\"id\":\"14597\",\"type\":\"Range1d\"},{\"attributes\":{},\"id\":\"14965\",\"type\":\"CategoricalTickFormatter\"},{\"attributes\":{\"source\":{\"id\":\"14591\"}},\"id\":\"14628\",\"type\":\"CDSView\"},{\"attributes\":{\"source\":{\"id\":\"14591\"},\"text\":{\"field\":\"sentiment_score\"},\"x\":{\"field\":\"sentences\"},\"y\":{\"field\":\"sentiment_score\"}},\"id\":\"14630\",\"type\":\"LabelSet\"}],\"root_ids\":[\"14592\"]},\"title\":\"Bokeh Application\",\"version\":\"2.0.2\"}};\n  var render_items = [{\"docid\":\"2f672651-6f9e-4ab7-abb3-ac043902a75f\",\"root_ids\":[\"14592\"],\"roots\":{\"14592\":\"7a88ebfc-e10b-448c-8832-73fb3475f8cc\"}}];\n  root.Bokeh.embed.embed_items_notebook(docs_json, render_items);\n\n  }\n  if (root.Bokeh !== undefined) {\n    embed_document(root);\n  } else {\n    var attempts = 0;\n    var timer = setInterval(function(root) {\n      if (root.Bokeh !== undefined) {\n        clearInterval(timer);\n        embed_document(root);\n      } else {\n        attempts++;\n        if (attempts > 100) {\n          clearInterval(timer);\n          console.log(\"Bokeh: ERROR: Unable to run BokehJS code because BokehJS library is missing\");\n        }\n      }\n    }, 10, root)\n  }\n})(window);",
      "application/vnd.bokehjs_exec.v0+json": ""
     },
     "metadata": {
      "application/vnd.bokehjs_exec.v0+json": {
       "id": "14592"
      }
     }
    }
   ],
   "source": [
    "# Get highest negative ranking Geo location\n",
    "(dfX1,dfY1) = get_top10(dfOut,'geo_facet',True)\n",
    "generate_vis(dfX1,dfY1,\"Ranked Negative by Geo Location\")"
   ]
  },
  {
   "cell_type": "code",
   "execution_count": 122,
   "metadata": {},
   "outputs": [
    {
     "output_type": "display_data",
     "data": {
      "text/html": "\n\n\n\n\n\n  <div class=\"bk-root\" id=\"d7d6da33-2ae8-434a-bed5-2befaaa33b5d\" data-root-id=\"15018\"></div>\n"
     },
     "metadata": {}
    },
    {
     "output_type": "display_data",
     "data": {
      "application/javascript": "(function(root) {\n  function embed_document(root) {\n    \n  var docs_json = {\"a871d464-2b05-4f87-ad3b-82d7d333bb3c\":{\"roots\":{\"references\":[{\"attributes\":{\"below\":[{\"id\":\"15029\"}],\"center\":[{\"id\":\"15031\"},{\"id\":\"15035\"},{\"id\":\"15056\"}],\"left\":[{\"id\":\"15032\"}],\"plot_height\":800,\"plot_width\":1000,\"renderers\":[{\"id\":\"15053\"}],\"title\":{\"id\":\"15019\"},\"toolbar\":{\"id\":\"15043\"},\"toolbar_location\":null,\"x_range\":{\"id\":\"15021\"},\"x_scale\":{\"id\":\"15025\"},\"y_range\":{\"id\":\"15023\"},\"y_scale\":{\"id\":\"15027\"}},\"id\":\"15018\",\"subtype\":\"Figure\",\"type\":\"Plot\"},{\"attributes\":{},\"id\":\"15402\",\"type\":\"UnionRenderers\"},{\"attributes\":{},\"id\":\"15025\",\"type\":\"CategoricalScale\"},{\"attributes\":{},\"id\":\"15401\",\"type\":\"Selection\"},{\"attributes\":{\"bottom_units\":\"screen\",\"fill_alpha\":0.5,\"fill_color\":\"lightgrey\",\"left_units\":\"screen\",\"level\":\"overlay\",\"line_alpha\":1.0,\"line_color\":\"black\",\"line_dash\":[4,4],\"line_width\":2,\"render_mode\":\"css\",\"right_units\":\"screen\",\"top_units\":\"screen\"},\"id\":\"15042\",\"type\":\"BoxAnnotation\"},{\"attributes\":{},\"id\":\"15036\",\"type\":\"PanTool\"},{\"attributes\":{\"fill_alpha\":{\"value\":0.1},\"fill_color\":{\"field\":\"color\"},\"line_alpha\":{\"value\":0.1},\"line_color\":{\"field\":\"color\"},\"top\":{\"field\":\"sentiment_score\"},\"width\":{\"value\":0.5},\"x\":{\"field\":\"sentences\"}},\"id\":\"15052\",\"type\":\"VBar\"},{\"attributes\":{},\"id\":\"15397\",\"type\":\"BasicTickFormatter\"},{\"attributes\":{\"axis\":{\"id\":\"15029\"},\"ticker\":null},\"id\":\"15031\",\"type\":\"Grid\"},{\"attributes\":{\"axis_label\":\"Ranked Positive by Entities\",\"axis_label_text_font_size\":\"13pt\",\"formatter\":{\"id\":\"15399\"},\"major_label_orientation\":1.0471975511965976,\"major_label_text_font_size\":\"13pt\",\"ticker\":{\"id\":\"15030\"}},\"id\":\"15029\",\"type\":\"CategoricalAxis\"},{\"attributes\":{},\"id\":\"15037\",\"type\":\"WheelZoomTool\"},{\"attributes\":{\"callback\":null,\"tooltips\":[[\"sentiment_score\",\"@sentiment_score\"]]},\"id\":\"15055\",\"type\":\"HoverTool\"},{\"attributes\":{\"data\":{\"color\":[\"#8dd3c7\",\"#ffffb3\",\"#bebada\",\"#fb8072\",\"#80b1d3\",\"#fdb462\",\"#b3de69\",\"#fccde5\",\"#d9d9d9\",\"#bc80bd\"],\"sentences\":[\"['Art', 'Frieze New York', 'E-Commerce',\",\"['Art', 'Restaurants', 'Fashion and Appa\",\"['Cooking and Cookbooks', 'Vegetables', \",\"['Coronavirus (2019-nCoV)', 'Hair']\",\"['Crossword Puzzles', 'Cats']\",\"['Movies', 'Animated Films']\",\"['Quarantine (Life and Culture)', 'Comed\",\"['Quarantine (Life and Culture)', 'Theat\",\"['Theater', 'Quarantine (Life and Cultur\",\"['Alcoholic Beverages', 'Cocktails and M\"],\"sentiment_score\":[0.8,0.8,0.6,0.5,0.5,0.5,0.5,0.5,0.5,0.4]},\"selected\":{\"id\":\"15401\"},\"selection_policy\":{\"id\":\"15402\"}},\"id\":\"15017\",\"type\":\"ColumnDataSource\"},{\"attributes\":{},\"id\":\"15030\",\"type\":\"CategoricalTicker\"},{\"attributes\":{},\"id\":\"15039\",\"type\":\"SaveTool\"},{\"attributes\":{\"start\":-1},\"id\":\"15023\",\"type\":\"Range1d\"},{\"attributes\":{\"fill_color\":{\"field\":\"color\"},\"line_color\":{\"field\":\"color\"},\"top\":{\"field\":\"sentiment_score\"},\"width\":{\"value\":0.5},\"x\":{\"field\":\"sentences\"}},\"id\":\"15051\",\"type\":\"VBar\"},{\"attributes\":{\"active_drag\":\"auto\",\"active_inspect\":\"auto\",\"active_multi\":null,\"active_scroll\":\"auto\",\"active_tap\":\"auto\",\"tools\":[{\"id\":\"15036\"},{\"id\":\"15037\"},{\"id\":\"15038\"},{\"id\":\"15039\"},{\"id\":\"15040\"},{\"id\":\"15041\"},{\"id\":\"15055\"}]},\"id\":\"15043\",\"type\":\"Toolbar\"},{\"attributes\":{},\"id\":\"15041\",\"type\":\"HelpTool\"},{\"attributes\":{\"axis\":{\"id\":\"15032\"},\"dimension\":1,\"ticker\":null},\"id\":\"15035\",\"type\":\"Grid\"},{\"attributes\":{\"source\":{\"id\":\"15017\"},\"text\":{\"field\":\"sentiment_score\"},\"x\":{\"field\":\"sentences\"},\"y\":{\"field\":\"sentiment_score\"}},\"id\":\"15056\",\"type\":\"LabelSet\"},{\"attributes\":{\"text\":\"The New York Times Wire - Sentiment Analysis\"},\"id\":\"15019\",\"type\":\"Title\"},{\"attributes\":{\"data_source\":{\"id\":\"15017\"},\"glyph\":{\"id\":\"15051\"},\"hover_glyph\":null,\"muted_glyph\":null,\"nonselection_glyph\":{\"id\":\"15052\"},\"selection_glyph\":null,\"view\":{\"id\":\"15054\"}},\"id\":\"15053\",\"type\":\"GlyphRenderer\"},{\"attributes\":{},\"id\":\"15399\",\"type\":\"CategoricalTickFormatter\"},{\"attributes\":{},\"id\":\"15033\",\"type\":\"BasicTicker\"},{\"attributes\":{\"factors\":[\"['Alcoholic Beverages', 'Cocktails and M\",\"['Coronavirus (2019-nCoV)', 'Hair']\",\"['Crossword Puzzles', 'Cats']\",\"['Movies', 'Animated Films']\",\"['Quarantine (Life and Culture)', 'Comed\",\"['Quarantine (Life and Culture)', 'Theat\",\"['Theater', 'Quarantine (Life and Cultur\",\"['Cooking and Cookbooks', 'Vegetables', \",\"['Art', 'Frieze New York', 'E-Commerce',\",\"['Art', 'Restaurants', 'Fashion and Appa\"]},\"id\":\"15021\",\"type\":\"FactorRange\"},{\"attributes\":{},\"id\":\"15027\",\"type\":\"LinearScale\"},{\"attributes\":{\"axis_label\":\"Sentiment Score\",\"axis_label_text_font_size\":\"13pt\",\"formatter\":{\"id\":\"15397\"},\"ticker\":{\"id\":\"15033\"}},\"id\":\"15032\",\"type\":\"LinearAxis\"},{\"attributes\":{\"overlay\":{\"id\":\"15042\"}},\"id\":\"15038\",\"type\":\"BoxZoomTool\"},{\"attributes\":{},\"id\":\"15040\",\"type\":\"ResetTool\"},{\"attributes\":{\"source\":{\"id\":\"15017\"}},\"id\":\"15054\",\"type\":\"CDSView\"}],\"root_ids\":[\"15018\"]},\"title\":\"Bokeh Application\",\"version\":\"2.0.2\"}};\n  var render_items = [{\"docid\":\"a871d464-2b05-4f87-ad3b-82d7d333bb3c\",\"root_ids\":[\"15018\"],\"roots\":{\"15018\":\"d7d6da33-2ae8-434a-bed5-2befaaa33b5d\"}}];\n  root.Bokeh.embed.embed_items_notebook(docs_json, render_items);\n\n  }\n  if (root.Bokeh !== undefined) {\n    embed_document(root);\n  } else {\n    var attempts = 0;\n    var timer = setInterval(function(root) {\n      if (root.Bokeh !== undefined) {\n        clearInterval(timer);\n        embed_document(root);\n      } else {\n        attempts++;\n        if (attempts > 100) {\n          clearInterval(timer);\n          console.log(\"Bokeh: ERROR: Unable to run BokehJS code because BokehJS library is missing\");\n        }\n      }\n    }, 10, root)\n  }\n})(window);",
      "application/vnd.bokehjs_exec.v0+json": ""
     },
     "metadata": {
      "application/vnd.bokehjs_exec.v0+json": {
       "id": "15018"
      }
     }
    }
   ],
   "source": [
    "# Get highest positive ranking Geo location\n",
    "(dfX1,dfY1) = get_top10(dfOut,'des_facet',False)\n",
    "generate_vis(dfX1,dfY1,\"Ranked Positive by Entities\")"
   ]
  },
  {
   "cell_type": "code",
   "execution_count": 123,
   "metadata": {},
   "outputs": [
    {
     "output_type": "display_data",
     "data": {
      "text/html": "\n\n\n\n\n\n  <div class=\"bk-root\" id=\"103d3e27-6de4-43e1-90ff-32cab7fd7748\" data-root-id=\"15452\"></div>\n"
     },
     "metadata": {}
    },
    {
     "output_type": "display_data",
     "data": {
      "application/javascript": "(function(root) {\n  function embed_document(root) {\n    \n  var docs_json = {\"e957ee97-fe33-4f11-9438-57efd625162c\":{\"roots\":{\"references\":[{\"attributes\":{\"below\":[{\"id\":\"15463\"}],\"center\":[{\"id\":\"15465\"},{\"id\":\"15469\"},{\"id\":\"15490\"}],\"left\":[{\"id\":\"15466\"}],\"plot_height\":800,\"plot_width\":1000,\"renderers\":[{\"id\":\"15487\"}],\"title\":{\"id\":\"15453\"},\"toolbar\":{\"id\":\"15477\"},\"toolbar_location\":null,\"x_range\":{\"id\":\"15455\"},\"x_scale\":{\"id\":\"15459\"},\"y_range\":{\"id\":\"15457\"},\"y_scale\":{\"id\":\"15461\"}},\"id\":\"15452\",\"subtype\":\"Figure\",\"type\":\"Plot\"},{\"attributes\":{\"axis_label\":\"Sentiment Score\",\"axis_label_text_font_size\":\"13pt\",\"formatter\":{\"id\":\"15839\"},\"ticker\":{\"id\":\"15467\"}},\"id\":\"15466\",\"type\":\"LinearAxis\"},{\"attributes\":{\"overlay\":{\"id\":\"15476\"}},\"id\":\"15472\",\"type\":\"BoxZoomTool\"},{\"attributes\":{\"text\":\"The New York Times Wire - Sentiment Analysis\"},\"id\":\"15453\",\"type\":\"Title\"},{\"attributes\":{\"active_drag\":\"auto\",\"active_inspect\":\"auto\",\"active_multi\":null,\"active_scroll\":\"auto\",\"active_tap\":\"auto\",\"tools\":[{\"id\":\"15470\"},{\"id\":\"15471\"},{\"id\":\"15472\"},{\"id\":\"15473\"},{\"id\":\"15474\"},{\"id\":\"15475\"},{\"id\":\"15489\"}]},\"id\":\"15477\",\"type\":\"Toolbar\"},{\"attributes\":{\"start\":-1},\"id\":\"15457\",\"type\":\"Range1d\"},{\"attributes\":{\"source\":{\"id\":\"15451\"}},\"id\":\"15488\",\"type\":\"CDSView\"},{\"attributes\":{},\"id\":\"15464\",\"type\":\"CategoricalTicker\"},{\"attributes\":{},\"id\":\"15473\",\"type\":\"SaveTool\"},{\"attributes\":{},\"id\":\"15844\",\"type\":\"UnionRenderers\"},{\"attributes\":{},\"id\":\"15839\",\"type\":\"BasicTickFormatter\"},{\"attributes\":{\"source\":{\"id\":\"15451\"},\"text\":{\"field\":\"sentiment_score\"},\"x\":{\"field\":\"sentences\"},\"y\":{\"field\":\"sentiment_score\"}},\"id\":\"15490\",\"type\":\"LabelSet\"},{\"attributes\":{\"callback\":null,\"tooltips\":[[\"sentiment_score\",\"@sentiment_score\"]]},\"id\":\"15489\",\"type\":\"HoverTool\"},{\"attributes\":{\"fill_color\":{\"field\":\"color\"},\"line_color\":{\"field\":\"color\"},\"top\":{\"field\":\"sentiment_score\"},\"width\":{\"value\":0.5},\"x\":{\"field\":\"sentences\"}},\"id\":\"15485\",\"type\":\"VBar\"},{\"attributes\":{\"fill_alpha\":{\"value\":0.1},\"fill_color\":{\"field\":\"color\"},\"line_alpha\":{\"value\":0.1},\"line_color\":{\"field\":\"color\"},\"top\":{\"field\":\"sentiment_score\"},\"width\":{\"value\":0.5},\"x\":{\"field\":\"sentences\"}},\"id\":\"15486\",\"type\":\"VBar\"},{\"attributes\":{},\"id\":\"15467\",\"type\":\"BasicTicker\"},{\"attributes\":{},\"id\":\"15474\",\"type\":\"ResetTool\"},{\"attributes\":{},\"id\":\"15475\",\"type\":\"HelpTool\"},{\"attributes\":{\"data\":{\"color\":[\"#8dd3c7\",\"#ffffb3\",\"#bebada\",\"#fb8072\",\"#80b1d3\",\"#fdb462\",\"#b3de69\",\"#fccde5\",\"#d9d9d9\",\"#bc80bd\"],\"sentences\":[\"['Chinese-Americans', 'Korean-Americans'\",\"['Coronavirus (2019-nCoV)', 'Coronavirus\",\"['Electoral College', 'United States Pol\",\"['Grief (Emotion)', 'Paid Time Off', 'Fu\",\"['Private Equity', 'Small Business', 'Cr\",\"['Sex Crimes', 'Decisions and Verdicts',\",\"['Commencement Speeches', 'Coronavirus (\",\"['Coronavirus (2019-nCoV)', 'Anxiety and\",\"['Coronavirus (2019-nCoV)', 'Books and L\",\"['Aviation Accidents, Safety and Disaste\"],\"sentiment_score\":[-0.7,-0.7,-0.7,-0.7,-0.7,-0.7,-0.6,-0.6,-0.6,-0.5]},\"selected\":{\"id\":\"15843\"},\"selection_policy\":{\"id\":\"15844\"}},\"id\":\"15451\",\"type\":\"ColumnDataSource\"},{\"attributes\":{},\"id\":\"15461\",\"type\":\"LinearScale\"},{\"attributes\":{},\"id\":\"15471\",\"type\":\"WheelZoomTool\"},{\"attributes\":{\"factors\":[\"['Chinese-Americans', 'Korean-Americans'\",\"['Coronavirus (2019-nCoV)', 'Coronavirus\",\"['Electoral College', 'United States Pol\",\"['Grief (Emotion)', 'Paid Time Off', 'Fu\",\"['Private Equity', 'Small Business', 'Cr\",\"['Sex Crimes', 'Decisions and Verdicts',\",\"['Commencement Speeches', 'Coronavirus (\",\"['Coronavirus (2019-nCoV)', 'Anxiety and\",\"['Coronavirus (2019-nCoV)', 'Books and L\",\"['Aviation Accidents, Safety and Disaste\"]},\"id\":\"15455\",\"type\":\"FactorRange\"},{\"attributes\":{},\"id\":\"15470\",\"type\":\"PanTool\"},{\"attributes\":{},\"id\":\"15459\",\"type\":\"CategoricalScale\"},{\"attributes\":{\"bottom_units\":\"screen\",\"fill_alpha\":0.5,\"fill_color\":\"lightgrey\",\"left_units\":\"screen\",\"level\":\"overlay\",\"line_alpha\":1.0,\"line_color\":\"black\",\"line_dash\":[4,4],\"line_width\":2,\"render_mode\":\"css\",\"right_units\":\"screen\",\"top_units\":\"screen\"},\"id\":\"15476\",\"type\":\"BoxAnnotation\"},{\"attributes\":{\"axis\":{\"id\":\"15466\"},\"dimension\":1,\"ticker\":null},\"id\":\"15469\",\"type\":\"Grid\"},{\"attributes\":{},\"id\":\"15841\",\"type\":\"CategoricalTickFormatter\"},{\"attributes\":{\"axis\":{\"id\":\"15463\"},\"ticker\":null},\"id\":\"15465\",\"type\":\"Grid\"},{\"attributes\":{\"data_source\":{\"id\":\"15451\"},\"glyph\":{\"id\":\"15485\"},\"hover_glyph\":null,\"muted_glyph\":null,\"nonselection_glyph\":{\"id\":\"15486\"},\"selection_glyph\":null,\"view\":{\"id\":\"15488\"}},\"id\":\"15487\",\"type\":\"GlyphRenderer\"},{\"attributes\":{},\"id\":\"15843\",\"type\":\"Selection\"},{\"attributes\":{\"axis_label\":\"Ranked Negative by Entities\",\"axis_label_text_font_size\":\"13pt\",\"formatter\":{\"id\":\"15841\"},\"major_label_orientation\":1.0471975511965976,\"major_label_text_font_size\":\"13pt\",\"ticker\":{\"id\":\"15464\"}},\"id\":\"15463\",\"type\":\"CategoricalAxis\"}],\"root_ids\":[\"15452\"]},\"title\":\"Bokeh Application\",\"version\":\"2.0.2\"}};\n  var render_items = [{\"docid\":\"e957ee97-fe33-4f11-9438-57efd625162c\",\"root_ids\":[\"15452\"],\"roots\":{\"15452\":\"103d3e27-6de4-43e1-90ff-32cab7fd7748\"}}];\n  root.Bokeh.embed.embed_items_notebook(docs_json, render_items);\n\n  }\n  if (root.Bokeh !== undefined) {\n    embed_document(root);\n  } else {\n    var attempts = 0;\n    var timer = setInterval(function(root) {\n      if (root.Bokeh !== undefined) {\n        clearInterval(timer);\n        embed_document(root);\n      } else {\n        attempts++;\n        if (attempts > 100) {\n          clearInterval(timer);\n          console.log(\"Bokeh: ERROR: Unable to run BokehJS code because BokehJS library is missing\");\n        }\n      }\n    }, 10, root)\n  }\n})(window);",
      "application/vnd.bokehjs_exec.v0+json": ""
     },
     "metadata": {
      "application/vnd.bokehjs_exec.v0+json": {
       "id": "15452"
      }
     }
    }
   ],
   "source": [
    "# Get highest negative ranking Geo location\n",
    "(dfX1,dfY1) = get_top10(dfOut,'des_facet',True)\n",
    "generate_vis(dfX1,dfY1,\"Ranked Negative by Entities\")"
   ]
  },
  {
   "cell_type": "code",
   "execution_count": 124,
   "metadata": {},
   "outputs": [
    {
     "output_type": "display_data",
     "data": {
      "text/html": "\n\n\n\n\n\n  <div class=\"bk-root\" id=\"b91e17ee-22e8-4109-acac-82a20fbfb023\" data-root-id=\"15894\"></div>\n"
     },
     "metadata": {}
    },
    {
     "output_type": "display_data",
     "data": {
      "application/javascript": "(function(root) {\n  function embed_document(root) {\n    \n  var docs_json = {\"3e405e51-1701-45e2-8366-6764ac5f7714\":{\"roots\":{\"references\":[{\"attributes\":{\"below\":[{\"id\":\"15905\"}],\"center\":[{\"id\":\"15907\"},{\"id\":\"15911\"},{\"id\":\"15932\"}],\"left\":[{\"id\":\"15908\"}],\"plot_height\":800,\"plot_width\":1000,\"renderers\":[{\"id\":\"15929\"}],\"title\":{\"id\":\"15895\"},\"toolbar\":{\"id\":\"15919\"},\"toolbar_location\":null,\"x_range\":{\"id\":\"15897\"},\"x_scale\":{\"id\":\"15901\"},\"y_range\":{\"id\":\"15899\"},\"y_scale\":{\"id\":\"15903\"}},\"id\":\"15894\",\"subtype\":\"Figure\",\"type\":\"Plot\"},{\"attributes\":{\"data_source\":{\"id\":\"15893\"},\"glyph\":{\"id\":\"15927\"},\"hover_glyph\":null,\"muted_glyph\":null,\"nonselection_glyph\":{\"id\":\"15928\"},\"selection_glyph\":null,\"view\":{\"id\":\"15930\"}},\"id\":\"15929\",\"type\":\"GlyphRenderer\"},{\"attributes\":{\"axis\":{\"id\":\"15908\"},\"dimension\":1,\"ticker\":null},\"id\":\"15911\",\"type\":\"Grid\"},{\"attributes\":{\"callback\":null,\"tooltips\":[[\"sentiment_score\",\"@sentiment_score\"]]},\"id\":\"15931\",\"type\":\"HoverTool\"},{\"attributes\":{\"bottom_units\":\"screen\",\"fill_alpha\":0.5,\"fill_color\":\"lightgrey\",\"left_units\":\"screen\",\"level\":\"overlay\",\"line_alpha\":1.0,\"line_color\":\"black\",\"line_dash\":[4,4],\"line_width\":2,\"render_mode\":\"css\",\"right_units\":\"screen\",\"top_units\":\"screen\"},\"id\":\"15918\",\"type\":\"BoxAnnotation\"},{\"attributes\":{},\"id\":\"16294\",\"type\":\"UnionRenderers\"},{\"attributes\":{\"start\":-1},\"id\":\"15899\",\"type\":\"Range1d\"},{\"attributes\":{},\"id\":\"16289\",\"type\":\"BasicTickFormatter\"},{\"attributes\":{},\"id\":\"15903\",\"type\":\"LinearScale\"},{\"attributes\":{},\"id\":\"15906\",\"type\":\"CategoricalTicker\"},{\"attributes\":{\"text\":\"The New York Times Wire - Sentiment Analysis\"},\"id\":\"15895\",\"type\":\"Title\"},{\"attributes\":{\"overlay\":{\"id\":\"15918\"}},\"id\":\"15914\",\"type\":\"BoxZoomTool\"},{\"attributes\":{},\"id\":\"16293\",\"type\":\"Selection\"},{\"attributes\":{\"axis_label\":\"Ranked Positive by Text\",\"axis_label_text_font_size\":\"13pt\",\"formatter\":{\"id\":\"16291\"},\"major_label_orientation\":1.0471975511965976,\"major_label_text_font_size\":\"13pt\",\"ticker\":{\"id\":\"15906\"}},\"id\":\"15905\",\"type\":\"CategoricalAxis\"},{\"attributes\":{\"active_drag\":\"auto\",\"active_inspect\":\"auto\",\"active_multi\":null,\"active_scroll\":\"auto\",\"active_tap\":\"auto\",\"tools\":[{\"id\":\"15912\"},{\"id\":\"15913\"},{\"id\":\"15914\"},{\"id\":\"15915\"},{\"id\":\"15916\"},{\"id\":\"15917\"},{\"id\":\"15931\"}]},\"id\":\"15919\",\"type\":\"Toolbar\"},{\"attributes\":{\"factors\":[\"Canned Cocktails in Quarantine Make Mixi\",\"Ariane Mnouchkine: Half a Century Buildi\",\"Hefty Barriers to Entry\",\"Music, Theater and More to Experience at\",\"On Second Viewing, First Impressions Don\",\"When the World Unravels, Braid Your Own \",\"\\u2018The Wolf House\\u2019 Review: A Different Kin\",\"Let Vegetables Be the Star of Your Memor\",\"First Virtual New York Art Fair Brings L\",\"The T List: Five Things We Recommend Thi\"]},\"id\":\"15897\",\"type\":\"FactorRange\"},{\"attributes\":{\"source\":{\"id\":\"15893\"},\"text\":{\"field\":\"sentiment_score\"},\"x\":{\"field\":\"sentences\"},\"y\":{\"field\":\"sentiment_score\"}},\"id\":\"15932\",\"type\":\"LabelSet\"},{\"attributes\":{},\"id\":\"15909\",\"type\":\"BasicTicker\"},{\"attributes\":{\"axis\":{\"id\":\"15905\"},\"ticker\":null},\"id\":\"15907\",\"type\":\"Grid\"},{\"attributes\":{},\"id\":\"15901\",\"type\":\"CategoricalScale\"},{\"attributes\":{},\"id\":\"15915\",\"type\":\"SaveTool\"},{\"attributes\":{\"axis_label\":\"Sentiment Score\",\"axis_label_text_font_size\":\"13pt\",\"formatter\":{\"id\":\"16289\"},\"ticker\":{\"id\":\"15909\"}},\"id\":\"15908\",\"type\":\"LinearAxis\"},{\"attributes\":{},\"id\":\"16291\",\"type\":\"CategoricalTickFormatter\"},{\"attributes\":{},\"id\":\"15917\",\"type\":\"HelpTool\"},{\"attributes\":{\"source\":{\"id\":\"15893\"}},\"id\":\"15930\",\"type\":\"CDSView\"},{\"attributes\":{\"data\":{\"color\":[\"#8dd3c7\",\"#ffffb3\",\"#bebada\",\"#fb8072\",\"#80b1d3\",\"#fdb462\",\"#b3de69\",\"#fccde5\",\"#d9d9d9\",\"#bc80bd\"],\"sentences\":[\"First Virtual New York Art Fair Brings L\",\"The T List: Five Things We Recommend Thi\",\"Let Vegetables Be the Star of Your Memor\",\"Ariane Mnouchkine: Half a Century Buildi\",\"Hefty Barriers to Entry\",\"Music, Theater and More to Experience at\",\"On Second Viewing, First Impressions Don\",\"When the World Unravels, Braid Your Own \",\"\\u2018The Wolf House\\u2019 Review: A Different Kin\",\"Canned Cocktails in Quarantine Make Mixi\"],\"sentiment_score\":[0.8,0.8,0.6,0.5,0.5,0.5,0.5,0.5,0.5,0.4]},\"selected\":{\"id\":\"16293\"},\"selection_policy\":{\"id\":\"16294\"}},\"id\":\"15893\",\"type\":\"ColumnDataSource\"},{\"attributes\":{\"fill_color\":{\"field\":\"color\"},\"line_color\":{\"field\":\"color\"},\"top\":{\"field\":\"sentiment_score\"},\"width\":{\"value\":0.5},\"x\":{\"field\":\"sentences\"}},\"id\":\"15927\",\"type\":\"VBar\"},{\"attributes\":{},\"id\":\"15916\",\"type\":\"ResetTool\"},{\"attributes\":{},\"id\":\"15913\",\"type\":\"WheelZoomTool\"},{\"attributes\":{\"fill_alpha\":{\"value\":0.1},\"fill_color\":{\"field\":\"color\"},\"line_alpha\":{\"value\":0.1},\"line_color\":{\"field\":\"color\"},\"top\":{\"field\":\"sentiment_score\"},\"width\":{\"value\":0.5},\"x\":{\"field\":\"sentences\"}},\"id\":\"15928\",\"type\":\"VBar\"},{\"attributes\":{},\"id\":\"15912\",\"type\":\"PanTool\"}],\"root_ids\":[\"15894\"]},\"title\":\"Bokeh Application\",\"version\":\"2.0.2\"}};\n  var render_items = [{\"docid\":\"3e405e51-1701-45e2-8366-6764ac5f7714\",\"root_ids\":[\"15894\"],\"roots\":{\"15894\":\"b91e17ee-22e8-4109-acac-82a20fbfb023\"}}];\n  root.Bokeh.embed.embed_items_notebook(docs_json, render_items);\n\n  }\n  if (root.Bokeh !== undefined) {\n    embed_document(root);\n  } else {\n    var attempts = 0;\n    var timer = setInterval(function(root) {\n      if (root.Bokeh !== undefined) {\n        clearInterval(timer);\n        embed_document(root);\n      } else {\n        attempts++;\n        if (attempts > 100) {\n          clearInterval(timer);\n          console.log(\"Bokeh: ERROR: Unable to run BokehJS code because BokehJS library is missing\");\n        }\n      }\n    }, 10, root)\n  }\n})(window);",
      "application/vnd.bokehjs_exec.v0+json": ""
     },
     "metadata": {
      "application/vnd.bokehjs_exec.v0+json": {
       "id": "15894"
      }
     }
    }
   ],
   "source": [
    "# Get highest positive ranking Geo location\n",
    "(dfX1,dfY1) = get_top10(dfOut,'title',False)\n",
    "generate_vis(dfX1,dfY1,\"Ranked Positive by Text\")"
   ]
  },
  {
   "cell_type": "code",
   "execution_count": 125,
   "metadata": {},
   "outputs": [
    {
     "output_type": "display_data",
     "data": {
      "text/html": "\n\n\n\n\n\n  <div class=\"bk-root\" id=\"bfc51cad-f22e-416d-bb24-0ecd45f8a37f\" data-root-id=\"16344\"></div>\n"
     },
     "metadata": {}
    },
    {
     "output_type": "display_data",
     "data": {
      "application/javascript": "(function(root) {\n  function embed_document(root) {\n    \n  var docs_json = {\"5fbdf07f-bcd0-48ec-a8a2-c0328070e788\":{\"roots\":{\"references\":[{\"attributes\":{\"below\":[{\"id\":\"16355\"}],\"center\":[{\"id\":\"16357\"},{\"id\":\"16361\"},{\"id\":\"16382\"}],\"left\":[{\"id\":\"16358\"}],\"plot_height\":800,\"plot_width\":1000,\"renderers\":[{\"id\":\"16379\"}],\"title\":{\"id\":\"16345\"},\"toolbar\":{\"id\":\"16369\"},\"toolbar_location\":null,\"x_range\":{\"id\":\"16347\"},\"x_scale\":{\"id\":\"16351\"},\"y_range\":{\"id\":\"16349\"},\"y_scale\":{\"id\":\"16353\"}},\"id\":\"16344\",\"subtype\":\"Figure\",\"type\":\"Plot\"},{\"attributes\":{\"data_source\":{\"id\":\"16343\"},\"glyph\":{\"id\":\"16377\"},\"hover_glyph\":null,\"muted_glyph\":null,\"nonselection_glyph\":{\"id\":\"16378\"},\"selection_glyph\":null,\"view\":{\"id\":\"16380\"}},\"id\":\"16379\",\"type\":\"GlyphRenderer\"},{\"attributes\":{},\"id\":\"16359\",\"type\":\"BasicTicker\"},{\"attributes\":{},\"id\":\"16752\",\"type\":\"UnionRenderers\"},{\"attributes\":{},\"id\":\"16363\",\"type\":\"WheelZoomTool\"},{\"attributes\":{\"active_drag\":\"auto\",\"active_inspect\":\"auto\",\"active_multi\":null,\"active_scroll\":\"auto\",\"active_tap\":\"auto\",\"tools\":[{\"id\":\"16362\"},{\"id\":\"16363\"},{\"id\":\"16364\"},{\"id\":\"16365\"},{\"id\":\"16366\"},{\"id\":\"16367\"},{\"id\":\"16381\"}]},\"id\":\"16369\",\"type\":\"Toolbar\"},{\"attributes\":{},\"id\":\"16365\",\"type\":\"SaveTool\"},{\"attributes\":{\"start\":-1},\"id\":\"16349\",\"type\":\"Range1d\"},{\"attributes\":{\"source\":{\"id\":\"16343\"},\"text\":{\"field\":\"sentiment_score\"},\"x\":{\"field\":\"sentences\"},\"y\":{\"field\":\"sentiment_score\"}},\"id\":\"16382\",\"type\":\"LabelSet\"},{\"attributes\":{\"overlay\":{\"id\":\"16368\"}},\"id\":\"16364\",\"type\":\"BoxZoomTool\"},{\"attributes\":{},\"id\":\"16366\",\"type\":\"ResetTool\"},{\"attributes\":{\"data\":{\"color\":[\"#8dd3c7\",\"#ffffb3\",\"#bebada\",\"#fb8072\",\"#80b1d3\",\"#fdb462\",\"#b3de69\",\"#fccde5\",\"#d9d9d9\",\"#bc80bd\"],\"sentences\":[\"Trump\\u2019s Low Approval Ratings Don\\u2019t Surpr\",\"As Unemployment Soars, Lawmakers Push to\",\"Charges Against Former Michigan State Pr\",\"Grieving Shouldn\\u2019t Be a Privilege\",\"Private Equity Didn\\u2019t Help\",\"The Electoral College Is a Confusing Mes\",\"Why I\\u2019ve Stopped Telling People I\\u2019m Not \",\"Obama Says U.S. Lacks Leadership on Viru\",\"\\u2018I Can\\u2019t Turn My Brain Off\\u2019: PTSD and Bu\",\"\\u2018Wuhan Diary\\u2019 Offers an Angry and Eerie \"],\"sentiment_score\":[-0.8,-0.7,-0.7,-0.7,-0.7,-0.7,-0.7,-0.6,-0.6,-0.6]},\"selected\":{\"id\":\"16751\"},\"selection_policy\":{\"id\":\"16752\"}},\"id\":\"16343\",\"type\":\"ColumnDataSource\"},{\"attributes\":{\"fill_color\":{\"field\":\"color\"},\"line_color\":{\"field\":\"color\"},\"top\":{\"field\":\"sentiment_score\"},\"width\":{\"value\":0.5},\"x\":{\"field\":\"sentences\"}},\"id\":\"16377\",\"type\":\"VBar\"},{\"attributes\":{\"bottom_units\":\"screen\",\"fill_alpha\":0.5,\"fill_color\":\"lightgrey\",\"left_units\":\"screen\",\"level\":\"overlay\",\"line_alpha\":1.0,\"line_color\":\"black\",\"line_dash\":[4,4],\"line_width\":2,\"render_mode\":\"css\",\"right_units\":\"screen\",\"top_units\":\"screen\"},\"id\":\"16368\",\"type\":\"BoxAnnotation\"},{\"attributes\":{},\"id\":\"16749\",\"type\":\"CategoricalTickFormatter\"},{\"attributes\":{\"callback\":null,\"tooltips\":[[\"sentiment_score\",\"@sentiment_score\"]]},\"id\":\"16381\",\"type\":\"HoverTool\"},{\"attributes\":{},\"id\":\"16362\",\"type\":\"PanTool\"},{\"attributes\":{\"source\":{\"id\":\"16343\"}},\"id\":\"16380\",\"type\":\"CDSView\"},{\"attributes\":{\"fill_alpha\":{\"value\":0.1},\"fill_color\":{\"field\":\"color\"},\"line_alpha\":{\"value\":0.1},\"line_color\":{\"field\":\"color\"},\"top\":{\"field\":\"sentiment_score\"},\"width\":{\"value\":0.5},\"x\":{\"field\":\"sentences\"}},\"id\":\"16378\",\"type\":\"VBar\"},{\"attributes\":{},\"id\":\"16353\",\"type\":\"LinearScale\"},{\"attributes\":{\"axis\":{\"id\":\"16358\"},\"dimension\":1,\"ticker\":null},\"id\":\"16361\",\"type\":\"Grid\"},{\"attributes\":{},\"id\":\"16351\",\"type\":\"CategoricalScale\"},{\"attributes\":{},\"id\":\"16751\",\"type\":\"Selection\"},{\"attributes\":{\"text\":\"The New York Times Wire - Sentiment Analysis\"},\"id\":\"16345\",\"type\":\"Title\"},{\"attributes\":{\"axis\":{\"id\":\"16355\"},\"ticker\":null},\"id\":\"16357\",\"type\":\"Grid\"},{\"attributes\":{},\"id\":\"16367\",\"type\":\"HelpTool\"},{\"attributes\":{\"axis_label\":\"Sentiment Score\",\"axis_label_text_font_size\":\"13pt\",\"formatter\":{\"id\":\"16747\"},\"ticker\":{\"id\":\"16359\"}},\"id\":\"16358\",\"type\":\"LinearAxis\"},{\"attributes\":{\"factors\":[\"Trump\\u2019s Low Approval Ratings Don\\u2019t Surpr\",\"As Unemployment Soars, Lawmakers Push to\",\"Charges Against Former Michigan State Pr\",\"Grieving Shouldn\\u2019t Be a Privilege\",\"Private Equity Didn\\u2019t Help\",\"The Electoral College Is a Confusing Mes\",\"Why I\\u2019ve Stopped Telling People I\\u2019m Not \",\"Obama Says U.S. Lacks Leadership on Viru\",\"\\u2018I Can\\u2019t Turn My Brain Off\\u2019: PTSD and Bu\",\"\\u2018Wuhan Diary\\u2019 Offers an Angry and Eerie \"]},\"id\":\"16347\",\"type\":\"FactorRange\"},{\"attributes\":{},\"id\":\"16747\",\"type\":\"BasicTickFormatter\"},{\"attributes\":{},\"id\":\"16356\",\"type\":\"CategoricalTicker\"},{\"attributes\":{\"axis_label\":\"Ranked Negative by Text\",\"axis_label_text_font_size\":\"13pt\",\"formatter\":{\"id\":\"16749\"},\"major_label_orientation\":1.0471975511965976,\"major_label_text_font_size\":\"13pt\",\"ticker\":{\"id\":\"16356\"}},\"id\":\"16355\",\"type\":\"CategoricalAxis\"}],\"root_ids\":[\"16344\"]},\"title\":\"Bokeh Application\",\"version\":\"2.0.2\"}};\n  var render_items = [{\"docid\":\"5fbdf07f-bcd0-48ec-a8a2-c0328070e788\",\"root_ids\":[\"16344\"],\"roots\":{\"16344\":\"bfc51cad-f22e-416d-bb24-0ecd45f8a37f\"}}];\n  root.Bokeh.embed.embed_items_notebook(docs_json, render_items);\n\n  }\n  if (root.Bokeh !== undefined) {\n    embed_document(root);\n  } else {\n    var attempts = 0;\n    var timer = setInterval(function(root) {\n      if (root.Bokeh !== undefined) {\n        clearInterval(timer);\n        embed_document(root);\n      } else {\n        attempts++;\n        if (attempts > 100) {\n          clearInterval(timer);\n          console.log(\"Bokeh: ERROR: Unable to run BokehJS code because BokehJS library is missing\");\n        }\n      }\n    }, 10, root)\n  }\n})(window);",
      "application/vnd.bokehjs_exec.v0+json": ""
     },
     "metadata": {
      "application/vnd.bokehjs_exec.v0+json": {
       "id": "16344"
      }
     }
    }
   ],
   "source": [
    "# Get highest negative ranking Geo location\n",
    "(dfX1,dfY1) = get_top10(dfOut,'title',True)\n",
    "generate_vis(dfX1,dfY1,\"Ranked Negative by Text\")"
   ]
  }
 ],
 "metadata": {
  "kernelspec": {
   "display_name": "Python 3.7.7 64-bit",
   "language": "python",
   "name": "python37764bit550f9f9e8f8d4f3bba144237434dec84"
  },
  "language_info": {
   "codemirror_mode": {
    "name": "ipython",
    "version": 3
   },
   "file_extension": ".py",
   "mimetype": "text/x-python",
   "name": "python",
   "nbconvert_exporter": "python",
   "pygments_lexer": "ipython3",
   "version": "3.7.7-final"
  }
 },
 "nbformat": 4,
 "nbformat_minor": 2
}